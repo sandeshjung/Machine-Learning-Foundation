{
 "cells": [
  {
   "cell_type": "code",
   "execution_count": 1,
   "metadata": {},
   "outputs": [
    {
     "name": "stdout",
     "output_type": "stream",
     "text": [
      "PyTorch Version: 2.3.0+cu118\n",
      "Gymnasium Version: 1.1.1\n",
      "Using device: cuda\n"
     ]
    }
   ],
   "source": [
    "import torch\n",
    "import torch.nn as nn\n",
    "import torch.optim as optim\n",
    "import torch.nn.functional as F\n",
    "from torch.distributions import Categorical\n",
    "\n",
    "import gymnasium as gym\n",
    "import numpy as np\n",
    "import matplotlib.pyplot as plt\n",
    "import seaborn as sns\n",
    "import random \n",
    "from collections import deque, namedtuple \n",
    "\n",
    "# Plotting configuration\n",
    "sns.set_theme(style=\"whitegrid\")\n",
    "print(f\"PyTorch Version: {torch.__version__}\")\n",
    "print(f\"Gymnasium Version: {gym.__version__}\")\n",
    "\n",
    "# For reproducibility and device selection\n",
    "torch.manual_seed(42)\n",
    "np.random.seed(42)\n",
    "random.seed(42) # For Python's random module\n",
    "device = torch.device(\"cuda\" if torch.cuda.is_available() else \"cpu\")\n",
    "print(f\"Using device: {device}\")"
   ]
  },
  {
   "cell_type": "code",
   "execution_count": 2,
   "metadata": {},
   "outputs": [],
   "source": [
    "# Environment setup (CartPole)\n",
    "env_name = 'CartPole-v1'\n",
    "try:\n",
    "    env = gym.make(env_name)\n",
    "except gym.error.DeprecatedEnv:\n",
    "    env = gym.make('CartPole-v0')"
   ]
  },
  {
   "cell_type": "code",
   "execution_count": 3,
   "metadata": {},
   "outputs": [
    {
     "data": {
      "text/plain": [
       "<TimeLimit<OrderEnforcing<PassiveEnvChecker<CartPoleEnv<CartPole-v1>>>>>"
      ]
     },
     "execution_count": 3,
     "metadata": {},
     "output_type": "execute_result"
    }
   ],
   "source": [
    "env"
   ]
  },
  {
   "cell_type": "code",
   "execution_count": 4,
   "metadata": {},
   "outputs": [
    {
     "name": "stdout",
     "output_type": "stream",
     "text": [
      "4 2\n"
     ]
    }
   ],
   "source": [
    "state_dim_rl = env.observation_space.shape[0]\n",
    "action_dim_rl = env.action_space.n\n",
    "print(state_dim_rl, action_dim_rl)\n",
    "env.close()"
   ]
  },
  {
   "cell_type": "markdown",
   "metadata": {},
   "source": [
    "### Deep Q-Networks (DQN)"
   ]
  },
  {
   "cell_type": "code",
   "execution_count": 5,
   "metadata": {},
   "outputs": [],
   "source": [
    "# MLP for cartpole\n",
    "class QNetwork(nn.Module):\n",
    "\n",
    "    def __init__(self, state_dim, action_dim, hidden_dim=128):\n",
    "        super(QNetwork, self).__init__()\n",
    "        self.fc1 = nn.Linear(state_dim, hidden_dim)\n",
    "        self.fc2 = nn.Linear(hidden_dim, hidden_dim)\n",
    "        self.fc3_q_values = nn.Linear(hidden_dim, action_dim)\n",
    "\n",
    "    def forward(self, state_tensor):\n",
    "        x = F.relu(self.fc1(state_tensor))\n",
    "        x = F.relu(self.fc2(x))\n",
    "        q_values = self.fc3_q_values(x)\n",
    "        return q_values    "
   ]
  },
  {
   "cell_type": "code",
   "execution_count": 19,
   "metadata": {},
   "outputs": [],
   "source": [
    "Transition = namedtuple('Transition', ('state', 'action', 'next_state', 'reward', 'done'))"
   ]
  },
  {
   "cell_type": "code",
   "execution_count": 20,
   "metadata": {},
   "outputs": [],
   "source": [
    "class ReplayBuffer:\n",
    "    def __init__(self, capacity):\n",
    "        self.memory = deque([], maxlen=capacity)\n",
    "\n",
    "    def push(self, *args):\n",
    "        \"\"\"Save a transition.\"\"\"\n",
    "        self.memory.append(Transition(*args))\n",
    "\n",
    "    def sample(self, batch_size):\n",
    "        \"\"\"Sample a batch of transitions\"\"\"\n",
    "        return random.sample(self.memory, batch_size)\n",
    "\n",
    "    def __len__(self):\n",
    "        return len(self.memory)"
   ]
  },
  {
   "cell_type": "code",
   "execution_count": 21,
   "metadata": {},
   "outputs": [],
   "source": [
    "# epsilon greedy action selection\n",
    "def select_action_epsilon_greedy(state_tensor, policy_net, epsilon, n_actions):\n",
    "    if random.random() > epsilon:\n",
    "        with torch.no_grad():\n",
    "            if state_tensor.ndim == 1:\n",
    "                state_tensor = state_tensor.unsqueeze(0)\n",
    "            action = policy_net(state_tensor).max(1)[1].view(1, 1)\n",
    "            return action\n",
    "    else:       # choose a random action\n",
    "        return torch.tensor([[random.randrange(n_actions)]], device=device, dtype=torch.long)"
   ]
  },
  {
   "cell_type": "code",
   "execution_count": 22,
   "metadata": {},
   "outputs": [],
   "source": [
    "# DQN Algorithm Implementation\n",
    "buffer_size = 10000\n",
    "batch_size = 128\n",
    "gamma = 0.99\n",
    "eps_start = 0.9\n",
    "eps_end = 0.05\n",
    "eps_decay = 1000\n",
    "tau = 0.005\n",
    "target_update_freq = 10\n",
    "lr = 1e-3\n",
    "num_episodes = 600\n",
    "max_steps = 500"
   ]
  },
  {
   "cell_type": "code",
   "execution_count": 23,
   "metadata": {},
   "outputs": [
    {
     "data": {
      "text/plain": [
       "QNetwork(\n",
       "  (fc1): Linear(in_features=4, out_features=128, bias=True)\n",
       "  (fc2): Linear(in_features=128, out_features=128, bias=True)\n",
       "  (fc3_q_values): Linear(in_features=128, out_features=2, bias=True)\n",
       ")"
      ]
     },
     "execution_count": 23,
     "metadata": {},
     "output_type": "execute_result"
    }
   ],
   "source": [
    "# Initialize Q-network (policy_net) and Target Q-Network (target_net)\n",
    "policy_q_net = QNetwork(state_dim_rl, action_dim_rl).to(device)\n",
    "target_q_net = QNetwork(state_dim_rl, action_dim_rl).to(device)\n",
    "target_q_net.load_state_dict(policy_q_net.state_dict())\n",
    "target_q_net.eval()"
   ]
  },
  {
   "cell_type": "code",
   "execution_count": 24,
   "metadata": {},
   "outputs": [],
   "source": [
    "optimizer = optim.AdamW(policy_q_net.parameters(), lr=lr, amsgrad=True)\n",
    "replay_memory = ReplayBuffer(buffer_size)"
   ]
  },
  {
   "cell_type": "code",
   "execution_count": 25,
   "metadata": {},
   "outputs": [
    {
     "data": {
      "text/plain": [
       "AdamW (\n",
       "Parameter Group 0\n",
       "    amsgrad: True\n",
       "    betas: (0.9, 0.999)\n",
       "    capturable: False\n",
       "    differentiable: False\n",
       "    eps: 1e-08\n",
       "    foreach: None\n",
       "    fused: None\n",
       "    lr: 0.001\n",
       "    maximize: False\n",
       "    weight_decay: 0.01\n",
       ")"
      ]
     },
     "execution_count": 25,
     "metadata": {},
     "output_type": "execute_result"
    }
   ],
   "source": [
    "optimizer"
   ]
  },
  {
   "cell_type": "code",
   "execution_count": 26,
   "metadata": {},
   "outputs": [
    {
     "data": {
      "text/plain": [
       "<__main__.ReplayBuffer at 0x70fecc5aceb0>"
      ]
     },
     "execution_count": 26,
     "metadata": {},
     "output_type": "execute_result"
    }
   ],
   "source": [
    "replay_memory"
   ]
  },
  {
   "cell_type": "code",
   "execution_count": 27,
   "metadata": {},
   "outputs": [
    {
     "name": "stdout",
     "output_type": "stream",
     "text": [
      "DQN Episode 1/600, Avg Reward (last 50): 9.00, Epsilon: 0.893\n",
      "DQN Episode 51/600, Avg Reward (last 50): 61.58, Epsilon: 0.089\n",
      "DQN Episode 101/600, Avg Reward (last 50): 168.92, Epsilon: 0.050\n",
      "DQN Episode 151/600, Avg Reward (last 50): 163.00, Epsilon: 0.050\n",
      "DQN Episode 201/600, Avg Reward (last 50): 93.72, Epsilon: 0.050\n",
      "DQN Episode 251/600, Avg Reward (last 50): 115.88, Epsilon: 0.050\n",
      "DQN Episode 301/600, Avg Reward (last 50): 119.94, Epsilon: 0.050\n",
      "DQN Episode 351/600, Avg Reward (last 50): 125.34, Epsilon: 0.050\n",
      "DQN Episode 401/600, Avg Reward (last 50): 151.92, Epsilon: 0.050\n",
      "DQN Episode 451/600, Avg Reward (last 50): 174.32, Epsilon: 0.050\n",
      "DQN Episode 501/600, Avg Reward (last 50): 118.84, Epsilon: 0.050\n",
      "DQN Episode 551/600, Avg Reward (last 50): 152.68, Epsilon: 0.050\n"
     ]
    }
   ],
   "source": [
    "steps_done = 0\n",
    "episode_rewards = []\n",
    "for episode_i in range(num_episodes):\n",
    "    dqn_env = gym.make(env_name)\n",
    "    state_np_dqn, info_dqn = dqn_env.reset(seed=42 + episode_i)\n",
    "    state_dqn = torch.from_numpy(state_np_dqn).float().unsqueeze(0).to(device)\n",
    "\n",
    "    current_episode_reward = 0\n",
    "\n",
    "    for t_dqn in range(max_steps):\n",
    "        epsilon = eps_end + (eps_start - eps_end) * np.exp(-1. * steps_done / eps_decay)\n",
    "        steps_done += 1\n",
    "\n",
    "        action_dqn = select_action_epsilon_greedy(state_dqn, policy_q_net, epsilon, action_dim_rl)\n",
    "\n",
    "        next_state_np_dqn, reward_dqn, terminated_dqn, truncated_dqn, _ = dqn_env.step(action_dqn.item())\n",
    "        done_dqn = terminated_dqn or truncated_dqn\n",
    "        current_episode_reward += reward_dqn\n",
    "\n",
    "        reward_tensor_dqn = torch.tensor([reward_dqn], device=device, dtype=torch.float32)\n",
    "        done_tensor_dqn = torch.tensor([done_dqn], device=device, dtype=torch.bool)\n",
    "\n",
    "        if terminated_dqn:\n",
    "            next_state_dqn = None\n",
    "        else:\n",
    "            next_state_dqn = torch.from_numpy(next_state_np_dqn).float().unsqueeze(0).to(device)\n",
    "\n",
    "        # store the transition in replay memory\n",
    "        replay_memory.push(state_dqn, action_dqn, next_state_dqn, reward_tensor_dqn, done_tensor_dqn)\n",
    "\n",
    "        # move to the next state\n",
    "        state_dqn = next_state_dqn\n",
    "\n",
    "        # perform one step of optimization on the policy network\n",
    "        if len(replay_memory) >= batch_size:\n",
    "            transitions = replay_memory.sample(batch_size)\n",
    "            batch = Transition(*zip(*transitions))\n",
    "\n",
    "            # compute a mask of non-final states and concatenate the batch elements\n",
    "            non_final_mask = torch.tensor(tuple(map(lambda s: s is not None, batch.next_state)),\n",
    "                                          device=device, dtype=torch.bool)\n",
    "            non_final_next_states = torch.cat([s for s in batch.next_state if s is not None])\n",
    "\n",
    "            state_batch = torch.cat(batch.state)\n",
    "            action_batch = torch.cat(batch.action)      # [batch_size, 1]\n",
    "            reward_batch = torch.cat(batch.reward)      # [batch_size]\n",
    "            done_batch = torch.cat(batch.done)          # [batch_size]\n",
    "\n",
    "            state_action_values = policy_q_net(state_batch).gather(1, action_batch)     # Q(s,a)\n",
    "\n",
    "            # Compute V(s_{t+1}) for all next states.\n",
    "            next_state_values = torch.zeros(batch_size, device=device)\n",
    "            if non_final_next_states.nelement() > 0:\n",
    "                with torch.no_grad():\n",
    "                    next_state_values[non_final_mask] = target_q_net(non_final_next_states).max(1)[0]\n",
    "\n",
    "            # compute expected Q Values (Bellman target)\n",
    "            expected_state_action_values = (next_state_values * gamma) + reward_batch\n",
    "            # for terminal states, future reward component (next_state_values * gamma) is zero because next_state_values for done states will be zero\n",
    "\n",
    "            # compute Huber loss or MSE loss\n",
    "            criterion = nn.SmoothL1Loss() \n",
    "            # criterion = nn.MSELoss()\n",
    "            loss_dqn = criterion(state_action_values, expected_state_action_values.unsqueeze(1))\n",
    "\n",
    "            # optimize the model\n",
    "            optimizer.zero_grad()\n",
    "            loss_dqn.backward()\n",
    "            torch.nn.utils.clip_grad_value_(policy_q_net.parameters(), 100)\n",
    "            optimizer.step()\n",
    "\n",
    "        if done_dqn:\n",
    "            break\n",
    "\n",
    "    dqn_env.close()\n",
    "    episode_rewards.append(current_episode_reward)\n",
    "\n",
    "    # update the target network\n",
    "    if episode_i % target_update_freq == 0:\n",
    "        target_q_net.load_state_dict(policy_q_net.state_dict())\n",
    "\n",
    "    if (episode_i) % 50 == 0:\n",
    "        avg_reward = np.mean(episode_rewards[-50:])\n",
    "        print(f\"DQN Episode {episode_i+1}/{num_episodes}, Avg Reward (last 50): {avg_reward:.2f}, Epsilon: {epsilon:.3f}\")\n",
    "        if avg_reward >= 475.0 and num_episodes > 100:\n",
    "            print(f\"CartPole solved by DQN at episode {episode_i+1}!\")"
   ]
  },
  {
   "cell_type": "code",
   "execution_count": 29,
   "metadata": {},
   "outputs": [
    {
     "data": {
      "image/png": "[encoded data removed]",
      "text/plain": [
       "<Figure size 800x500 with 1 Axes>"
      ]
     },
     "metadata": {},
     "output_type": "display_data"
    }
   ],
   "source": [
    "plt.figure(figsize=(8,5))\n",
    "plt.plot(episode_rewards)\n",
    "plt.title(\"DQN: Episode Rewards\")\n",
    "plt.xlabel(\"Episode\")\n",
    "plt.ylabel(\"Total Reward\")\n",
    "if len(episode_rewards) >= 50:\n",
    "    rewards_ma_dqn = np.convolve(episode_rewards, np.ones(50)/50, mode='valid')\n",
    "    plt.plot(np.arange(49, len(episode_rewards)), rewards_ma_dqn, label='50-ep MA', color='orange')\n",
    "plt.legend()\n",
    "plt.show()"
   ]
  },
  {
   "cell_type": "code",
   "execution_count": null,
   "metadata": {},
   "outputs": [],
   "source": []
  }
 ],
 "metadata": {
  "kernelspec": {
   "display_name": "develop_env",
   "language": "python",
   "name": "python3"
  },
  "language_info": {
   "codemirror_mode": {
    "name": "ipython",
    "version": 3
   },
   "file_extension": ".py",
   "mimetype": "text/x-python",
   "name": "python",
   "nbconvert_exporter": "python",
   "pygments_lexer": "ipython3",
   "version": "3.8.18"
  }
 },
 "nbformat": 4,
 "nbformat_minor": 2
}
