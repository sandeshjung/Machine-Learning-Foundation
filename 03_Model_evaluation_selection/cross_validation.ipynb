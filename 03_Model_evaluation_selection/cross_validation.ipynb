{
 "cells": [
  {
   "cell_type": "markdown",
   "metadata": {},
   "source": [
    "## Cross Validation"
   ]
  },
  {
   "cell_type": "code",
   "execution_count": 2,
   "metadata": {},
   "outputs": [
    {
     "name": "stdout",
     "output_type": "stream",
     "text": [
      "PyTorch Version: 2.3.0+cu118\n",
      "Scikit-learn Version: 1.2.2\n"
     ]
    }
   ],
   "source": [
    "import torch\n",
    "import torch.nn as nn\n",
    "import torch.optim as optim\n",
    "import numpy as np\n",
    "import matplotlib.pyplot as plt\n",
    "import seaborn as sns\n",
    "import sklearn\n",
    "from sklearn.datasets import make_classification\n",
    "from sklearn.model_selection import KFold, StratifiedKFold, train_test_split\n",
    "from sklearn.preprocessing import StandardScaler\n",
    "from sklearn.metrics import accuracy_score, f1_score\n",
    "\n",
    "sns.set_theme(style=\"whitegrid\")\n",
    "print(f\"PyTorch Version: {torch.__version__}\")\n",
    "print(f\"Scikit-learn Version: {sklearn.__version__}\")\n",
    "\n",
    "torch.manual_seed(42)\n",
    "np.random.seed(42)"
   ]
  },
  {
   "cell_type": "markdown",
   "metadata": {},
   "source": [
    "**Why Cross-Validation?** \n",
    "\n",
    "- A single train-test split can be sensitive to how the data is divided. The model's performance on one particular test set might not be representative of its true generalization ability.\n",
    "- It's especially useful when the dataset is relatively small.\n",
    "- Essential for reliable hyperparameter tuning."
   ]
  },
  {
   "cell_type": "code",
   "execution_count": 3,
   "metadata": {},
   "outputs": [],
   "source": [
    "# Generating synthetic classification data\n",
    "# Binary classification dataset\n",
    "N_SAMPLES_CV = 200\n",
    "X_np_cv, y_np_cv = make_classification(\n",
    "    n_samples=N_SAMPLES_CV, n_features=5, n_informative=3, n_redundant=0, \n",
    "    n_clusters_per_class=1, random_state=42, flip_y=0.05\n",
    "    )"
   ]
  },
  {
   "cell_type": "code",
   "execution_count": 4,
   "metadata": {},
   "outputs": [
    {
     "data": {
      "text/plain": [
       "(array([[ 0.43478795, -0.6089839 , -0.03534122,  1.06667469,  1.16929559],\n",
       "        [-1.83777452,  3.30594194, -2.87889884,  1.02915564,  0.47259748],\n",
       "        [ 2.23722377,  1.21369884, -2.95900625,  0.13296967, -0.70012081],\n",
       "        [-1.41841169,  2.21444838, -2.11305737,  0.38019785,  0.61058575],\n",
       "        [ 1.91074961,  0.85573189,  0.49234303, -0.63773998, -0.53099696]]),\n",
       " array([1, 0, 1, 0, 1]))"
      ]
     },
     "execution_count": 4,
     "metadata": {},
     "output_type": "execute_result"
    }
   ],
   "source": [
    "X_np_cv[:5], y_np_cv[:5]"
   ]
  },
  {
   "cell_type": "code",
   "execution_count": 5,
   "metadata": {},
   "outputs": [],
   "source": [
    "scaler_cv = StandardScaler()\n",
    "X_scaled_np_cv = scaler_cv.fit_transform(X_np_cv)"
   ]
  },
  {
   "cell_type": "code",
   "execution_count": 6,
   "metadata": {},
   "outputs": [
    {
     "data": {
      "text/plain": [
       "array([[ 0.36990267, -1.69249026,  0.98843979,  1.06424121,  1.06525641],\n",
       "       [-1.28804794,  2.2731233 , -2.00764006,  1.02484315,  0.37065181],\n",
       "       [ 1.68487183,  0.15379131, -2.09204426,  0.08377491, -0.7985426 ],\n",
       "       [-0.9821013 ,  1.16749785, -1.20072053,  0.34338463,  0.50822543],\n",
       "       [ 1.44669222, -0.20881035,  1.54442787, -0.72553299, -0.62992694]])"
      ]
     },
     "execution_count": 6,
     "metadata": {},
     "output_type": "execute_result"
    }
   ],
   "source": [
    "X_scaled_np_cv[:5]"
   ]
  },
  {
   "cell_type": "code",
   "execution_count": 7,
   "metadata": {},
   "outputs": [],
   "source": [
    "X_cv = torch.from_numpy(X_scaled_np_cv).float()\n",
    "y_cv = torch.from_numpy(y_np_cv).float().unsqueeze(1)"
   ]
  },
  {
   "cell_type": "code",
   "execution_count": 8,
   "metadata": {},
   "outputs": [
    {
     "data": {
      "text/plain": [
       "(torch.Size([200, 5]), torch.Size([200, 1]))"
      ]
     },
     "execution_count": 8,
     "metadata": {},
     "output_type": "execute_result"
    }
   ],
   "source": [
    "X_cv.shape, y_cv.shape"
   ]
  },
  {
   "cell_type": "code",
   "execution_count": 9,
   "metadata": {},
   "outputs": [],
   "source": [
    "class LogisticRegressionPyTorch(nn.Module):\n",
    "    def __init__(self, input_dim):\n",
    "        super(LogisticRegressionPyTorch, self).__init__()\n",
    "        self.linear = nn.Linear(input_dim, 1) \n",
    "\n",
    "    def forward(self, x):\n",
    "        return self.linear(x) # Return logits"
   ]
  },
  {
   "cell_type": "code",
   "execution_count": 10,
   "metadata": {},
   "outputs": [],
   "source": [
    "def train_pytorch_model(model_instance, X_train_fold, y_train_fold,\n",
    "                        criterion, optimizer, num_epochs=100, verbose=False):\n",
    "    \"\"\"Helper function to train a PyTorch model for one fold.\"\"\"\n",
    "    model_instance.train() \n",
    "    epoch_losses = []\n",
    "    for epoch in range(num_epochs):\n",
    "        # Forward pass\n",
    "        outputs = model_instance(X_train_fold) \n",
    "        \n",
    "        # Compute loss\n",
    "        loss = criterion(outputs, y_train_fold) # Criterion expects logits if BCEWithLogitsLoss\n",
    "        epoch_losses.append(loss.item())\n",
    "\n",
    "        # Backward pass and optimize\n",
    "        optimizer.zero_grad()\n",
    "        loss.backward()\n",
    "        optimizer.step()\n",
    "        \n",
    "        if verbose and (epoch + 1) % (num_epochs // 2) == 0 :\n",
    "             print(f\"    Epoch [{epoch+1}/{num_epochs}], Loss: {loss.item():.4f}\")\n",
    "    return epoch_losses"
   ]
  },
  {
   "cell_type": "code",
   "execution_count": 11,
   "metadata": {},
   "outputs": [],
   "source": [
    "def evaluate_pytorch_model(model_instance, X_val_fold, y_val_fold, threshold=0.5):\n",
    "    \"\"\"Helper function to evaluate a PyTorch binary classification model.\"\"\"\n",
    "    model_instance.eval() # Set model to evaluation mode\n",
    "    with torch.no_grad():\n",
    "        logits = model_instance(X_val_fold)\n",
    "        probabilities = torch.sigmoid(logits) # Convert logits to probabilities\n",
    "        predictions = (probabilities >= threshold).float()\n",
    "    \n",
    "    accuracy = accuracy_score(y_val_fold.cpu().numpy(), predictions.cpu().numpy())\n",
    "    return accuracy"
   ]
  },
  {
   "cell_type": "markdown",
   "metadata": {},
   "source": [
    "### K-Fold Cross-Validation\n",
    "\n",
    "The dataset is divided into K equally (for neraly equally) sized \"folds\". The model is trained K times:\n",
    "\n",
    "- In each iteration, K-1 folds are used for training, and 1 fold is used for validation.\n",
    "- Performance metrics are collected from each validation fold.\n",
    "- The overall performance is typically the average of the metrics across all K folds."
   ]
  },
  {
   "cell_type": "code",
   "execution_count": 12,
   "metadata": {},
   "outputs": [],
   "source": [
    "N_SPLITS_KFold = 5 \n",
    "kfold = KFold(n_splits=N_SPLITS_KFold, shuffle=True, random_state=42)"
   ]
  },
  {
   "cell_type": "code",
   "execution_count": 28,
   "metadata": {},
   "outputs": [
    {
     "name": "stdout",
     "output_type": "stream",
     "text": [
      "\n",
      "--- Fold 1/5 ---\n",
      "  Train samples: 160, Validation samples: 40\n",
      "  Training model for Fold 1...\n",
      "  Fold 1 Validation Accuracy: 0.7500\n",
      "\n",
      "--- Fold 2/5 ---\n",
      "  Train samples: 160, Validation samples: 40\n",
      "  Training model for Fold 2...\n",
      "  Fold 2 Validation Accuracy: 0.6500\n",
      "\n",
      "--- Fold 3/5 ---\n",
      "  Train samples: 160, Validation samples: 40\n",
      "  Training model for Fold 3...\n",
      "  Fold 3 Validation Accuracy: 0.9500\n",
      "\n",
      "--- Fold 4/5 ---\n",
      "  Train samples: 160, Validation samples: 40\n",
      "  Training model for Fold 4...\n",
      "  Fold 4 Validation Accuracy: 0.9250\n",
      "\n",
      "--- Fold 5/5 ---\n",
      "  Train samples: 160, Validation samples: 40\n",
      "  Training model for Fold 5...\n",
      "  Fold 5 Validation Accuracy: 0.9000\n"
     ]
    }
   ],
   "source": [
    "fold_accuracies_kfold = []\n",
    "current_fold = 0\n",
    "for fold_idx, (train_indices, val_indices) in enumerate(kfold.split(X_cv, y_cv)):\n",
    "    current_fold += 1\n",
    "    print(f\"\\n--- Fold {current_fold}/{N_SPLITS_KFold} ---\")\n",
    "\n",
    "    # Get training and validation data for this fold\n",
    "    X_train_fold, y_train_fold = X_cv[train_indices], y_cv[train_indices]\n",
    "    X_val_fold, y_val_fold = X_cv[val_indices], y_cv[val_indices]\n",
    "    \n",
    "    print(f\"  Train samples: {X_train_fold.shape[0]}, Validation samples: {X_val_fold.shape[0]}\")\n",
    "\n",
    "    # Initialize model,\n",
    "    input_dim_cv = X_cv.shape[1]\n",
    "    model_kfold = LogisticRegressionPyTorch(input_dim_cv)\n",
    "    \n",
    "    # Use BCEWithLogitsLoss for numerical stability (expects raw logits from model)\n",
    "    criterion_kfold = nn.BCEWithLogitsLoss() \n",
    "    optimizer_kfold = optim.SGD(model_kfold.parameters(), lr=0.05)\n",
    "    \n",
    "    # Train the model\n",
    "    print(f\"  Training model for Fold {current_fold}...\")\n",
    "    train_pytorch_model(model_kfold, X_train_fold, y_train_fold,\n",
    "                        criterion_kfold, optimizer_kfold, num_epochs=150, verbose=False) # Less verbose in loop\n",
    "    \n",
    "    # Evaluate\n",
    "    val_accuracy = evaluate_pytorch_model(model_kfold, X_val_fold, y_val_fold)\n",
    "    fold_accuracies_kfold.append(val_accuracy)\n",
    "    print(f\"  Fold {current_fold} Validation Accuracy: {val_accuracy:.4f}\")\n"
   ]
  },
  {
   "cell_type": "code",
   "execution_count": 29,
   "metadata": {},
   "outputs": [],
   "source": [
    "mean_accuracy_kfold = np.mean(fold_accuracies_kfold)\n",
    "std_accuracy_kfold = np.std(fold_accuracies_kfold)"
   ]
  },
  {
   "cell_type": "code",
   "execution_count": 30,
   "metadata": {},
   "outputs": [
    {
     "name": "stdout",
     "output_type": "stream",
     "text": [
      "\n",
      "--- K-Fold CV Results ---\n",
      "Individual Fold Accuracies: ['0.7500', '0.6500', '0.9500', '0.9250', '0.9000']\n",
      "Mean Validation Accuracy: 0.8350\n",
      "Standard Deviation of Validation Accuracy: 0.1158\n"
     ]
    }
   ],
   "source": [
    "print(\"\\n--- K-Fold CV Results ---\")\n",
    "print(f\"Individual Fold Accuracies: {[f'{acc:.4f}' for acc in fold_accuracies_kfold]}\")\n",
    "print(f\"Mean Validation Accuracy: {mean_accuracy_kfold:.4f}\")\n",
    "print(f\"Standard Deviation of Validation Accuracy: {std_accuracy_kfold:.4f}\")"
   ]
  },
  {
   "cell_type": "code",
   "execution_count": 31,
   "metadata": {},
   "outputs": [
    {
     "data": {
      "image/png": "[encoded data removed]",
      "text/plain": [
       "<Figure size 800x500 with 1 Axes>"
      ]
     },
     "metadata": {},
     "output_type": "display_data"
    }
   ],
   "source": [
    "plt.figure(figsize=(8, 5))\n",
    "plt.bar(range(1, N_SPLITS_KFold + 1), fold_accuracies_kfold, color='skyblue', label='Fold Accuracy')\n",
    "plt.axhline(mean_accuracy_kfold, color='red', linestyle='--', label=f'Mean Accuracy: {mean_accuracy_kfold:.4f}')\n",
    "plt.xlabel(\"Fold Number\")\n",
    "plt.ylabel(\"Validation Accuracy\")\n",
    "plt.title(f\"K-Fold Cross-Validation Accuracies (K={N_SPLITS_KFold})\")\n",
    "plt.xticks(range(1, N_SPLITS_KFold + 1))\n",
    "plt.ylim(min(fold_accuracies_kfold) - 0.05, max(fold_accuracies_kfold) + 0.05)\n",
    "plt.legend()\n",
    "plt.show()"
   ]
  },
  {
   "cell_type": "markdown",
   "metadata": {},
   "source": [
    "### Stratified K-Fold Cross-Validation\n",
    "\n",
    "- **Problem with KFold:** If classes are imbalanced, some folds might end up with very few or even zero samples of a particular class, leading to unreliable evaluation.\n",
    "- **Stratified K-Fold:** Variation of K-Fold that returns stratified folds. Each fold is made by preserving the percentage of samples for each class as in the original dataset. Particularly, imporant for classification tasks with imbalanced class distributions."
   ]
  },
  {
   "cell_type": "code",
   "execution_count": 32,
   "metadata": {},
   "outputs": [],
   "source": [
    "N_SPLITS_STRATIFIED = 5\n",
    "stratified_kfold = StratifiedKFold(n_splits=N_SPLITS_STRATIFIED, shuffle=True, random_state=42)"
   ]
  },
  {
   "cell_type": "code",
   "execution_count": 33,
   "metadata": {},
   "outputs": [
    {
     "name": "stdout",
     "output_type": "stream",
     "text": [
      "\n",
      "--- Stratified Fold 1/5 ---\n",
      "  Train samples: 160, Validation samples: 40\n",
      "  Train class balance: Class 0: 82, Class 1: 78\n",
      "  Val class balance:   Class 0: 20, Class 1: 20\n",
      "  Training model for Stratified Fold 1...\n",
      "  Stratified Fold 1 Validation Accuracy: 0.7500\n",
      "\n",
      "--- Stratified Fold 2/5 ---\n",
      "  Train samples: 160, Validation samples: 40\n",
      "  Train class balance: Class 0: 82, Class 1: 78\n",
      "  Val class balance:   Class 0: 20, Class 1: 20\n",
      "  Training model for Stratified Fold 2...\n",
      "  Stratified Fold 2 Validation Accuracy: 0.9000\n",
      "\n",
      "--- Stratified Fold 3/5 ---\n",
      "  Train samples: 160, Validation samples: 40\n",
      "  Train class balance: Class 0: 82, Class 1: 78\n",
      "  Val class balance:   Class 0: 20, Class 1: 20\n",
      "  Training model for Stratified Fold 3...\n",
      "  Stratified Fold 3 Validation Accuracy: 0.8250\n",
      "\n",
      "--- Stratified Fold 4/5 ---\n",
      "  Train samples: 160, Validation samples: 40\n",
      "  Train class balance: Class 0: 81, Class 1: 79\n",
      "  Val class balance:   Class 0: 21, Class 1: 19\n",
      "  Training model for Stratified Fold 4...\n",
      "  Stratified Fold 4 Validation Accuracy: 0.8750\n",
      "\n",
      "--- Stratified Fold 5/5 ---\n",
      "  Train samples: 160, Validation samples: 40\n",
      "  Train class balance: Class 0: 81, Class 1: 79\n",
      "  Val class balance:   Class 0: 21, Class 1: 19\n",
      "  Training model for Stratified Fold 5...\n",
      "  Stratified Fold 5 Validation Accuracy: 0.8500\n"
     ]
    }
   ],
   "source": [
    "fold_accuracies_stratified = []\n",
    "current_fold_strat = 0\n",
    "for fold_idx, (train_indices, val_indices) in enumerate(stratified_kfold.split(X_cv, y_cv.squeeze())):\n",
    "    current_fold_strat += 1\n",
    "    print(f\"\\n--- Stratified Fold {current_fold_strat}/{N_SPLITS_STRATIFIED} ---\")\n",
    "\n",
    "    X_train_fold_s, y_train_fold_s = X_cv[train_indices], y_cv[train_indices]\n",
    "    X_val_fold_s, y_val_fold_s = X_cv[val_indices], y_cv[val_indices]\n",
    "    \n",
    "    print(f\"  Train samples: {X_train_fold_s.shape[0]}, Validation samples: {X_val_fold_s.shape[0]}\")\n",
    "    print(f\"  Train class balance: Class 0: {(y_train_fold_s==0).sum().item()}, Class 1: {(y_train_fold_s==1).sum().item()}\")\n",
    "    print(f\"  Val class balance:   Class 0: {(y_val_fold_s==0).sum().item()}, Class 1: {(y_val_fold_s==1).sum().item()}\")\n",
    "\n",
    "\n",
    "    input_dim_cv_s = X_cv.shape[1]\n",
    "    model_stratified_kfold = LogisticRegressionPyTorch(input_dim_cv_s)\n",
    "    criterion_stratified_kfold = nn.BCEWithLogitsLoss()\n",
    "    optimizer_stratified_kfold = optim.SGD(model_stratified_kfold.parameters(), lr=0.05)\n",
    "    \n",
    "    print(f\"  Training model for Stratified Fold {current_fold_strat}...\")\n",
    "    train_pytorch_model(model_stratified_kfold, X_train_fold_s, y_train_fold_s,\n",
    "                        criterion_stratified_kfold, optimizer_stratified_kfold, num_epochs=150, verbose=False)\n",
    "    \n",
    "    val_accuracy_s = evaluate_pytorch_model(model_stratified_kfold, X_val_fold_s, y_val_fold_s)\n",
    "    fold_accuracies_stratified.append(val_accuracy_s)\n",
    "    print(f\"  Stratified Fold {current_fold_strat} Validation Accuracy: {val_accuracy_s:.4f}\")"
   ]
  },
  {
   "cell_type": "code",
   "execution_count": 34,
   "metadata": {},
   "outputs": [],
   "source": [
    "mean_accuracy_stratified = np.mean(fold_accuracies_stratified)\n",
    "std_accuracy_stratified = np.std(fold_accuracies_stratified)"
   ]
  },
  {
   "cell_type": "code",
   "execution_count": 35,
   "metadata": {},
   "outputs": [
    {
     "name": "stdout",
     "output_type": "stream",
     "text": [
      "\n",
      "--- Stratified K-Fold CV Results ---\n",
      "Individual Fold Accuracies: ['0.7500', '0.9000', '0.8250', '0.8750', '0.8500']\n",
      "Mean Validation Accuracy: 0.8400\n",
      "Standard Deviation of Validation Accuracy: 0.0515\n"
     ]
    }
   ],
   "source": [
    "print(\"\\n--- Stratified K-Fold CV Results ---\")\n",
    "print(f\"Individual Fold Accuracies: {[f'{acc:.4f}' for acc in fold_accuracies_stratified]}\")\n",
    "print(f\"Mean Validation Accuracy: {mean_accuracy_stratified:.4f}\")\n",
    "print(f\"Standard Deviation of Validation Accuracy: {std_accuracy_stratified:.4f}\")"
   ]
  },
  {
   "cell_type": "code",
   "execution_count": 36,
   "metadata": {},
   "outputs": [
    {
     "data": {
      "image/png": "[encoded data removed]",
      "text/plain": [
       "<Figure size 800x500 with 1 Axes>"
      ]
     },
     "metadata": {},
     "output_type": "display_data"
    }
   ],
   "source": [
    "plt.figure(figsize=(8, 5))\n",
    "plt.bar(range(1, N_SPLITS_STRATIFIED + 1), fold_accuracies_stratified, color='lightgreen', label='Fold Accuracy')\n",
    "plt.axhline(mean_accuracy_stratified, color='darkgreen', linestyle='--', label=f'Mean Accuracy: {mean_accuracy_stratified:.4f}')\n",
    "plt.xlabel(\"Fold Number\")\n",
    "plt.ylabel(\"Validation Accuracy\")\n",
    "plt.title(f\"Stratified K-Fold CV Accuracies (K={N_SPLITS_STRATIFIED})\")\n",
    "plt.xticks(range(1, N_SPLITS_STRATIFIED + 1))\n",
    "plt.ylim(min(fold_accuracies_stratified) - 0.05, max(fold_accuracies_stratified) + 0.05)\n",
    "plt.legend()\n",
    "plt.show()"
   ]
  },
  {
   "cell_type": "code",
   "execution_count": 37,
   "metadata": {},
   "outputs": [
    {
     "name": "stdout",
     "output_type": "stream",
     "text": [
      "\n",
      "Comparison of Mean Accuracies:\n",
      "  K-Fold (standard):        0.8350 +/- 0.1158\n",
      "  Stratified K-Fold:        0.8400 +/- 0.0515\n",
      "Stratified K-Fold often gives a more reliable estimate, especially with class imbalance.\n"
     ]
    }
   ],
   "source": [
    "print(f\"\\nComparison of Mean Accuracies:\")\n",
    "print(f\"  K-Fold (standard):        {mean_accuracy_kfold:.4f} +/- {std_accuracy_kfold:.4f}\")\n",
    "print(f\"  Stratified K-Fold:        {mean_accuracy_stratified:.4f} +/- {std_accuracy_stratified:.4f}\")\n",
    "print(\"Stratified K-Fold often gives a more reliable estimate, especially with class imbalance.\")"
   ]
  },
  {
   "cell_type": "markdown",
   "metadata": {},
   "source": [
    "### Using Cross-Validation for Hyperparameter Tuning (Conceptual)\n",
    "Cross-validation is essential for robust hyperparameter tuning. The general process:\n",
    "1. Define a grid of hyperparameters to search (e.g., different learning rates,\n",
    "   regularization strengths, polynomial degrees, kernel parameters for SVM).\n",
    "2. For each combination of hyperparameters:\n",
    "   \n",
    "   1. Perform K-Fold (or Stratified K-Fold) cross-validation.\n",
    "   2. Calculate the average validation performance (e.g., mean accuracy, mean F1-score)\n",
    "      across the K folds for that hyperparameter combination.\n",
    "3. Select the hyperparameter combination that yields the best average validation performance.\n",
    "4. (Optional but recommended) Retrain your model on the *entire training dataset*\n",
    "   using the best hyperparameters found.\n",
    "5. Finally, evaluate this retrained model on a completely separate, held-out test set\n",
    "   (that was not used at all during CV or hyperparameter tuning) to get a final\n",
    "   estimate of its generalization performance."
   ]
  },
  {
   "cell_type": "code",
   "execution_count": null,
   "metadata": {},
   "outputs": [],
   "source": []
  }
 ],
 "metadata": {
  "kernelspec": {
   "display_name": "develop_env",
   "language": "python",
   "name": "python3"
  },
  "language_info": {
   "codemirror_mode": {
    "name": "ipython",
    "version": 3
   },
   "file_extension": ".py",
   "mimetype": "text/x-python",
   "name": "python",
   "nbconvert_exporter": "python",
   "pygments_lexer": "ipython3",
   "version": "3.8.18"
  }
 },
 "nbformat": 4,
 "nbformat_minor": 2
}
