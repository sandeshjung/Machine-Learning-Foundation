{
 "cells": [
  {
   "cell_type": "markdown",
   "metadata": {},
   "source": [
    "### Autograd (Scalar)"
   ]
  },
  {
   "cell_type": "code",
   "execution_count": 1,
   "metadata": {},
   "outputs": [],
   "source": [
    "from graphviz import Digraph\n",
    "import torch\n",
    "def trace(root):\n",
    "\n",
    "    nodes, edges = set(), set()\n",
    "    def build(v):\n",
    "        if v not in nodes:\n",
    "            nodes.add(v)\n",
    "            for child in v._prev:\n",
    "                edges.add((child, v))\n",
    "                build(child)\n",
    "    build(root)\n",
    "    return nodes, edges\n",
    "\n",
    "def draw_dot(root):\n",
    "    dot = Digraph(format='svg', graph_attr={'rankdir': 'LR'})\n",
    "\n",
    "    nodes, edges = trace(root)\n",
    "    for n in nodes:\n",
    "        uid = str(id(n))\n",
    "\n",
    "        dot.node(name = uid, label=\"{ %s | data %.4f | grad %.4f}\" % (n.label, n.data, n.grad), shape='record')\n",
    "\n",
    "        if n._op:\n",
    "            dot.node(name = uid + n._op, label=n._op)\n",
    "            dot.edge(uid + n._op, uid)\n",
    "\n",
    "    for n1, n2 in edges:\n",
    "        dot.edge(str(id(n1)), str(id(n2)) + n2._op)\n",
    "\n",
    "    return dot"
   ]
  },
  {
   "cell_type": "code",
   "execution_count": 2,
   "metadata": {},
   "outputs": [],
   "source": [
    "import math\n",
    "class Value:\n",
    "    def __init__(self, value, _children=(), label=\"\", _op=\"\"):\n",
    "        self.data = value\n",
    "        self._prev = _children\n",
    "        self._backward = lambda: None\n",
    "        self.label=label\n",
    "        self._op = _op\n",
    "        self.grad = 0.0\n",
    "        \n",
    "    def __add__(self, other):\n",
    "        out = Value(self.data + other.data, _children=(self, other), _op=\"+\")\n",
    "\n",
    "        def _backward():\n",
    "            self.grad += 1 * out.grad   #dc/da = 1\n",
    "            other.grad += 1 * out.grad  # dc/db = 1\n",
    "        out._backward = _backward\n",
    "        return out\n",
    "        \n",
    "    def __mul__(self, other):\n",
    "        out = Value(self.data * other.data, _children=(self, other), _op=\"*\")\n",
    "\n",
    "        def _backward():\n",
    "            self.grad += other.data * out.grad  # dc/da = b\n",
    "            other.grad += self.data * out.grad  # dc/db = a\n",
    "        out._backward = _backward\n",
    "        return out\n",
    "\n",
    "    def tanh(self):\n",
    "        x = self.data\n",
    "        t = (math.exp(x) - math.exp(-x))/(math.exp(x) + math.exp(-x))\n",
    "        out = Value(t, (self, ), 'tanh')\n",
    "\n",
    "        def _backward():\n",
    "            self.grad += (1 - t**2) * out.grad\n",
    "        out._backward = _backward\n",
    "        return out\n",
    "\n",
    "    def __pow__(self, other):\n",
    "        out = Value(self.data**other, (self, ), f'**{other}')\n",
    "\n",
    "        def _backward():\n",
    "            self.grad += other * (self.data ** (other - 1))\n",
    "        out._backward = _backward\n",
    "        return out\n",
    "\n",
    "    def exp(self):\n",
    "        out = Value(math.exp(self.data), (self, ), f'e**{self.data}')\n",
    "\n",
    "        def _backward():\n",
    "            self.grad += out.data * out.grad\n",
    "        out._backward = _backward\n",
    "        return out\n",
    "\n",
    "    def log(self):\n",
    "        out = Value(math.log(self.data), (self, ), f'log({self.data})')\n",
    "\n",
    "        def _backward():\n",
    "            self.grad += 1 / self.data * out.grad\n",
    "        out._backward = _backward\n",
    "        return out\n",
    "    \n",
    "    def __rmul__(self, other):\n",
    "        return self.__mul__(Value(other))\n",
    "        \n",
    "    def __repr__(self):\n",
    "         return str(f'Value: {self.data}')\n",
    "    def __str__(self):\n",
    "        return str(f'Value :{self.data}')"
   ]
  },
  {
   "cell_type": "code",
   "execution_count": 3,
   "metadata": {},
   "outputs": [
    {
     "data": {
      "text/plain": [
       "Value: 0.9950547536867306"
      ]
     },
     "execution_count": 3,
     "metadata": {},
     "output_type": "execute_result"
    }
   ],
   "source": [
    "Value(3.0).tanh()"
   ]
  },
  {
   "cell_type": "code",
   "execution_count": 4,
   "metadata": {},
   "outputs": [
    {
     "data": {
      "text/plain": [
       "Value: 22026.465794806718"
      ]
     },
     "execution_count": 4,
     "metadata": {},
     "output_type": "execute_result"
    }
   ],
   "source": [
    "Value(10.0).exp()"
   ]
  },
  {
   "cell_type": "code",
   "execution_count": 5,
   "metadata": {},
   "outputs": [
    {
     "data": {
      "text/plain": [
       "Value: 2.302585092994046"
      ]
     },
     "execution_count": 5,
     "metadata": {},
     "output_type": "execute_result"
    }
   ],
   "source": [
    "Value(10.0).log()"
   ]
  },
  {
   "cell_type": "code",
   "execution_count": 6,
   "metadata": {},
   "outputs": [],
   "source": [
    "# g = (a*b)**2 + (a*b)*(e+f)\n",
    "a = Value(3.0)\n",
    "a.label = 'a'\n",
    "b = Value(2.0)\n",
    "b.label = 'b'\n",
    "e = Value(5.0, label='e')\n",
    "f = Value(6.0, label='f')"
   ]
  },
  {
   "cell_type": "code",
   "execution_count": 7,
   "metadata": {},
   "outputs": [],
   "source": [
    "d = e + f\n",
    "d.label = 'd'\n",
    "c = a * b\n",
    "c.label = 'c'"
   ]
  },
  {
   "cell_type": "code",
   "execution_count": 10,
   "metadata": {},
   "outputs": [],
   "source": [
    "h = c * d\n",
    "h.label = 'h'\n",
    "g = c ** 2 + h\n",
    "g.label = 'g' "
   ]
  },
  {
   "cell_type": "code",
   "execution_count": 11,
   "metadata": {},
   "outputs": [
    {
     "data": {
      "text/plain": [
       "Value: 102.0"
      ]
     },
     "execution_count": 11,
     "metadata": {},
     "output_type": "execute_result"
    }
   ],
   "source": [
    "g"
   ]
  },
  {
   "cell_type": "code",
   "execution_count": 21,
   "metadata": {},
   "outputs": [
    {
     "data": {
      "image/svg+xml": [
       "<?xml version=\"1.0\" encoding=\"UTF-8\" standalone=\"no\"?>\n",
       "<!DOCTYPE svg PUBLIC \"-//W3C//DTD SVG 1.1//EN\"\n",
       " \"http://www.w3.org/Graphics/SVG/1.1/DTD/svg11.dtd\">\n",
       "<!-- Generated by graphviz version 2.43.0 (0)\n",
       " -->\n",
       "<!-- Title: %3 Pages: 1 -->\n",
       "<svg width=\"1372pt\" height=\"210pt\"\n",
       " viewBox=\"0.00 0.00 1372.00 210.00\" xmlns=\"http://www.w3.org/2000/svg\" xmlns:xlink=\"http://www.w3.org/1999/xlink\">\n",
       "<g id=\"graph0\" class=\"graph\" transform=\"scale(1 1) rotate(0) translate(4 206)\">\n",
       "<title>%3</title>\n",
       "<polygon fill=\"white\" stroke=\"transparent\" points=\"-4,4 -4,-206 1368,-206 1368,4 -4,4\"/>\n",
       "<!-- 138331705536032 -->\n",
       "<g id=\"node1\" class=\"node\">\n",
       "<title>138331705536032</title>\n",
       "<polygon fill=\"none\" stroke=\"black\" points=\"0.5,-165.5 0.5,-201.5 240.5,-201.5 240.5,-165.5 0.5,-165.5\"/>\n",
       "<text text-anchor=\"middle\" x=\"13\" y=\"-179.8\" font-family=\"Times,serif\" font-size=\"14.00\">a</text>\n",
       "<polyline fill=\"none\" stroke=\"black\" points=\"25.5,-165.5 25.5,-201.5 \"/>\n",
       "<text text-anchor=\"middle\" x=\"76.5\" y=\"-179.8\" font-family=\"Times,serif\" font-size=\"14.00\">data 3.0000</text>\n",
       "<polyline fill=\"none\" stroke=\"black\" points=\"127.5,-165.5 127.5,-201.5 \"/>\n",
       "<text text-anchor=\"middle\" x=\"184\" y=\"-179.8\" font-family=\"Times,serif\" font-size=\"14.00\">grad 22.0000</text>\n",
       "</g>\n",
       "<!-- 138331704481776* -->\n",
       "<g id=\"node13\" class=\"node\">\n",
       "<title>138331704481776*</title>\n",
       "<ellipse fill=\"none\" stroke=\"black\" cx=\"304\" cy=\"-128.5\" rx=\"27\" ry=\"18\"/>\n",
       "<text text-anchor=\"middle\" x=\"304\" y=\"-124.8\" font-family=\"Times,serif\" font-size=\"14.00\">*</text>\n",
       "</g>\n",
       "<!-- 138331705536032&#45;&gt;138331704481776* -->\n",
       "<g id=\"edge12\" class=\"edge\">\n",
       "<title>138331705536032&#45;&gt;138331704481776*</title>\n",
       "<path fill=\"none\" stroke=\"black\" d=\"M210.48,-165.5C220.85,-162.78 231.22,-159.78 241,-156.5 251.69,-152.92 263.04,-148.11 273.05,-143.5\"/>\n",
       "<polygon fill=\"black\" stroke=\"black\" points=\"274.65,-146.61 282.19,-139.17 271.65,-140.29 274.65,-146.61\"/>\n",
       "</g>\n",
       "<!-- 138331705536080 -->\n",
       "<g id=\"node2\" class=\"node\">\n",
       "<title>138331705536080</title>\n",
       "<polygon fill=\"none\" stroke=\"black\" points=\"1114,-82.5 1114,-118.5 1364,-118.5 1364,-82.5 1114,-82.5\"/>\n",
       "<text text-anchor=\"middle\" x=\"1127\" y=\"-96.8\" font-family=\"Times,serif\" font-size=\"14.00\">g</text>\n",
       "<polyline fill=\"none\" stroke=\"black\" points=\"1140,-82.5 1140,-118.5 \"/>\n",
       "<text text-anchor=\"middle\" x=\"1200\" y=\"-96.8\" font-family=\"Times,serif\" font-size=\"14.00\">data 102.0000</text>\n",
       "<polyline fill=\"none\" stroke=\"black\" points=\"1260,-82.5 1260,-118.5 \"/>\n",
       "<text text-anchor=\"middle\" x=\"1312\" y=\"-96.8\" font-family=\"Times,serif\" font-size=\"14.00\">grad 1.0000</text>\n",
       "</g>\n",
       "<!-- 138331705536080+ -->\n",
       "<g id=\"node3\" class=\"node\">\n",
       "<title>138331705536080+</title>\n",
       "<ellipse fill=\"none\" stroke=\"black\" cx=\"1051\" cy=\"-100.5\" rx=\"27\" ry=\"18\"/>\n",
       "<text text-anchor=\"middle\" x=\"1051\" y=\"-96.8\" font-family=\"Times,serif\" font-size=\"14.00\">+</text>\n",
       "</g>\n",
       "<!-- 138331705536080+&#45;&gt;138331705536080 -->\n",
       "<g id=\"edge1\" class=\"edge\">\n",
       "<title>138331705536080+&#45;&gt;138331705536080</title>\n",
       "<path fill=\"none\" stroke=\"black\" d=\"M1078.25,-100.5C1085.61,-100.5 1094.14,-100.5 1103.36,-100.5\"/>\n",
       "<polygon fill=\"black\" stroke=\"black\" points=\"1103.61,-104 1113.61,-100.5 1103.61,-97 1103.61,-104\"/>\n",
       "</g>\n",
       "<!-- 138331704481392 -->\n",
       "<g id=\"node4\" class=\"node\">\n",
       "<title>138331704481392</title>\n",
       "<polygon fill=\"none\" stroke=\"black\" points=\"367,-55.5 367,-91.5 608,-91.5 608,-55.5 367,-55.5\"/>\n",
       "<text text-anchor=\"middle\" x=\"380\" y=\"-69.8\" font-family=\"Times,serif\" font-size=\"14.00\">d</text>\n",
       "<polyline fill=\"none\" stroke=\"black\" points=\"393,-55.5 393,-91.5 \"/>\n",
       "<text text-anchor=\"middle\" x=\"448.5\" y=\"-69.8\" font-family=\"Times,serif\" font-size=\"14.00\">data 11.0000</text>\n",
       "<polyline fill=\"none\" stroke=\"black\" points=\"504,-55.5 504,-91.5 \"/>\n",
       "<text text-anchor=\"middle\" x=\"556\" y=\"-69.8\" font-family=\"Times,serif\" font-size=\"14.00\">grad 6.0000</text>\n",
       "</g>\n",
       "<!-- 138331705535888* -->\n",
       "<g id=\"node11\" class=\"node\">\n",
       "<title>138331705535888*</title>\n",
       "<ellipse fill=\"none\" stroke=\"black\" cx=\"671\" cy=\"-73.5\" rx=\"27\" ry=\"18\"/>\n",
       "<text text-anchor=\"middle\" x=\"671\" y=\"-69.8\" font-family=\"Times,serif\" font-size=\"14.00\">*</text>\n",
       "</g>\n",
       "<!-- 138331704481392&#45;&gt;138331705535888* -->\n",
       "<g id=\"edge6\" class=\"edge\">\n",
       "<title>138331704481392&#45;&gt;138331705535888*</title>\n",
       "<path fill=\"none\" stroke=\"black\" d=\"M608.05,-73.5C617.17,-73.5 625.86,-73.5 633.7,-73.5\"/>\n",
       "<polygon fill=\"black\" stroke=\"black\" points=\"633.81,-77 643.81,-73.5 633.81,-70 633.81,-77\"/>\n",
       "</g>\n",
       "<!-- 138331704481392+ -->\n",
       "<g id=\"node5\" class=\"node\">\n",
       "<title>138331704481392+</title>\n",
       "<ellipse fill=\"none\" stroke=\"black\" cx=\"304\" cy=\"-73.5\" rx=\"27\" ry=\"18\"/>\n",
       "<text text-anchor=\"middle\" x=\"304\" y=\"-69.8\" font-family=\"Times,serif\" font-size=\"14.00\">+</text>\n",
       "</g>\n",
       "<!-- 138331704481392+&#45;&gt;138331704481392 -->\n",
       "<g id=\"edge2\" class=\"edge\">\n",
       "<title>138331704481392+&#45;&gt;138331704481392</title>\n",
       "<path fill=\"none\" stroke=\"black\" d=\"M331,-73.5C338.5,-73.5 347.22,-73.5 356.64,-73.5\"/>\n",
       "<polygon fill=\"black\" stroke=\"black\" points=\"356.68,-77 366.68,-73.5 356.68,-70 356.68,-77\"/>\n",
       "</g>\n",
       "<!-- 138331705536128 -->\n",
       "<g id=\"node6\" class=\"node\">\n",
       "<title>138331705536128</title>\n",
       "<polygon fill=\"none\" stroke=\"black\" points=\"734,-110.5 734,-146.5 988,-146.5 988,-110.5 734,-110.5\"/>\n",
       "<text text-anchor=\"middle\" x=\"753.5\" y=\"-124.8\" font-family=\"Times,serif\" font-size=\"14.00\">**2</text>\n",
       "<polyline fill=\"none\" stroke=\"black\" points=\"773,-110.5 773,-146.5 \"/>\n",
       "<text text-anchor=\"middle\" x=\"828.5\" y=\"-124.8\" font-family=\"Times,serif\" font-size=\"14.00\">data 36.0000</text>\n",
       "<polyline fill=\"none\" stroke=\"black\" points=\"884,-110.5 884,-146.5 \"/>\n",
       "<text text-anchor=\"middle\" x=\"936\" y=\"-124.8\" font-family=\"Times,serif\" font-size=\"14.00\">grad 1.0000</text>\n",
       "</g>\n",
       "<!-- 138331705536128&#45;&gt;138331705536080+ -->\n",
       "<g id=\"edge7\" class=\"edge\">\n",
       "<title>138331705536128&#45;&gt;138331705536080+</title>\n",
       "<path fill=\"none\" stroke=\"black\" d=\"M982.92,-110.49C994.21,-108.81 1004.94,-107.21 1014.37,-105.81\"/>\n",
       "<polygon fill=\"black\" stroke=\"black\" points=\"1015.04,-109.24 1024.42,-104.31 1014.01,-102.32 1015.04,-109.24\"/>\n",
       "</g>\n",
       "<!-- 138331705534640 -->\n",
       "<g id=\"node7\" class=\"node\">\n",
       "<title>138331705534640</title>\n",
       "<polygon fill=\"none\" stroke=\"black\" points=\"0,-110.5 0,-146.5 241,-146.5 241,-110.5 0,-110.5\"/>\n",
       "<text text-anchor=\"middle\" x=\"13\" y=\"-124.8\" font-family=\"Times,serif\" font-size=\"14.00\">b</text>\n",
       "<polyline fill=\"none\" stroke=\"black\" points=\"26,-110.5 26,-146.5 \"/>\n",
       "<text text-anchor=\"middle\" x=\"77\" y=\"-124.8\" font-family=\"Times,serif\" font-size=\"14.00\">data 2.0000</text>\n",
       "<polyline fill=\"none\" stroke=\"black\" points=\"128,-110.5 128,-146.5 \"/>\n",
       "<text text-anchor=\"middle\" x=\"184.5\" y=\"-124.8\" font-family=\"Times,serif\" font-size=\"14.00\">grad 33.0000</text>\n",
       "</g>\n",
       "<!-- 138331705534640&#45;&gt;138331704481776* -->\n",
       "<g id=\"edge8\" class=\"edge\">\n",
       "<title>138331705534640&#45;&gt;138331704481776*</title>\n",
       "<path fill=\"none\" stroke=\"black\" d=\"M241.05,-128.5C250.17,-128.5 258.86,-128.5 266.7,-128.5\"/>\n",
       "<polygon fill=\"black\" stroke=\"black\" points=\"266.81,-132 276.81,-128.5 266.81,-125 266.81,-132\"/>\n",
       "</g>\n",
       "<!-- 138331705534736 -->\n",
       "<g id=\"node8\" class=\"node\">\n",
       "<title>138331705534736</title>\n",
       "<polygon fill=\"none\" stroke=\"black\" points=\"5,-55.5 5,-91.5 236,-91.5 236,-55.5 5,-55.5\"/>\n",
       "<text text-anchor=\"middle\" x=\"17.5\" y=\"-69.8\" font-family=\"Times,serif\" font-size=\"14.00\">e</text>\n",
       "<polyline fill=\"none\" stroke=\"black\" points=\"30,-55.5 30,-91.5 \"/>\n",
       "<text text-anchor=\"middle\" x=\"81\" y=\"-69.8\" font-family=\"Times,serif\" font-size=\"14.00\">data 5.0000</text>\n",
       "<polyline fill=\"none\" stroke=\"black\" points=\"132,-55.5 132,-91.5 \"/>\n",
       "<text text-anchor=\"middle\" x=\"184\" y=\"-69.8\" font-family=\"Times,serif\" font-size=\"14.00\">grad 6.0000</text>\n",
       "</g>\n",
       "<!-- 138331705534736&#45;&gt;138331704481392+ -->\n",
       "<g id=\"edge10\" class=\"edge\">\n",
       "<title>138331705534736&#45;&gt;138331704481392+</title>\n",
       "<path fill=\"none\" stroke=\"black\" d=\"M236.19,-73.5C247.04,-73.5 257.41,-73.5 266.59,-73.5\"/>\n",
       "<polygon fill=\"black\" stroke=\"black\" points=\"266.8,-77 276.8,-73.5 266.8,-70 266.8,-77\"/>\n",
       "</g>\n",
       "<!-- 138331705534832 -->\n",
       "<g id=\"node9\" class=\"node\">\n",
       "<title>138331705534832</title>\n",
       "<polygon fill=\"none\" stroke=\"black\" points=\"6.5,-0.5 6.5,-36.5 234.5,-36.5 234.5,-0.5 6.5,-0.5\"/>\n",
       "<text text-anchor=\"middle\" x=\"17.5\" y=\"-14.8\" font-family=\"Times,serif\" font-size=\"14.00\">f</text>\n",
       "<polyline fill=\"none\" stroke=\"black\" points=\"28.5,-0.5 28.5,-36.5 \"/>\n",
       "<text text-anchor=\"middle\" x=\"79.5\" y=\"-14.8\" font-family=\"Times,serif\" font-size=\"14.00\">data 6.0000</text>\n",
       "<polyline fill=\"none\" stroke=\"black\" points=\"130.5,-0.5 130.5,-36.5 \"/>\n",
       "<text text-anchor=\"middle\" x=\"182.5\" y=\"-14.8\" font-family=\"Times,serif\" font-size=\"14.00\">grad 6.0000</text>\n",
       "</g>\n",
       "<!-- 138331705534832&#45;&gt;138331704481392+ -->\n",
       "<g id=\"edge11\" class=\"edge\">\n",
       "<title>138331705534832&#45;&gt;138331704481392+</title>\n",
       "<path fill=\"none\" stroke=\"black\" d=\"M210.48,-36.5C220.85,-39.22 231.22,-42.22 241,-45.5 251.69,-49.08 263.04,-53.89 273.05,-58.5\"/>\n",
       "<polygon fill=\"black\" stroke=\"black\" points=\"271.65,-61.71 282.19,-62.83 274.65,-55.39 271.65,-61.71\"/>\n",
       "</g>\n",
       "<!-- 138331705535888 -->\n",
       "<g id=\"node10\" class=\"node\">\n",
       "<title>138331705535888</title>\n",
       "<polygon fill=\"none\" stroke=\"black\" points=\"740.5,-55.5 740.5,-91.5 981.5,-91.5 981.5,-55.5 740.5,-55.5\"/>\n",
       "<text text-anchor=\"middle\" x=\"753.5\" y=\"-69.8\" font-family=\"Times,serif\" font-size=\"14.00\">h</text>\n",
       "<polyline fill=\"none\" stroke=\"black\" points=\"766.5,-55.5 766.5,-91.5 \"/>\n",
       "<text text-anchor=\"middle\" x=\"822\" y=\"-69.8\" font-family=\"Times,serif\" font-size=\"14.00\">data 66.0000</text>\n",
       "<polyline fill=\"none\" stroke=\"black\" points=\"877.5,-55.5 877.5,-91.5 \"/>\n",
       "<text text-anchor=\"middle\" x=\"929.5\" y=\"-69.8\" font-family=\"Times,serif\" font-size=\"14.00\">grad 1.0000</text>\n",
       "</g>\n",
       "<!-- 138331705535888&#45;&gt;138331705536080+ -->\n",
       "<g id=\"edge13\" class=\"edge\">\n",
       "<title>138331705535888&#45;&gt;138331705536080+</title>\n",
       "<path fill=\"none\" stroke=\"black\" d=\"M981.6,-90.68C993.4,-92.37 1004.63,-93.98 1014.44,-95.39\"/>\n",
       "<polygon fill=\"black\" stroke=\"black\" points=\"1014.1,-98.88 1024.5,-96.84 1015.1,-91.95 1014.1,-98.88\"/>\n",
       "</g>\n",
       "<!-- 138331705535888*&#45;&gt;138331705535888 -->\n",
       "<g id=\"edge3\" class=\"edge\">\n",
       "<title>138331705535888*&#45;&gt;138331705535888</title>\n",
       "<path fill=\"none\" stroke=\"black\" d=\"M698.14,-73.5C707.28,-73.5 718.26,-73.5 730.14,-73.5\"/>\n",
       "<polygon fill=\"black\" stroke=\"black\" points=\"730.3,-77 740.3,-73.5 730.3,-70 730.3,-77\"/>\n",
       "</g>\n",
       "<!-- 138331704481776 -->\n",
       "<g id=\"node12\" class=\"node\">\n",
       "<title>138331704481776</title>\n",
       "<polygon fill=\"none\" stroke=\"black\" points=\"368,-110.5 368,-146.5 607,-146.5 607,-110.5 368,-110.5\"/>\n",
       "<text text-anchor=\"middle\" x=\"380\" y=\"-124.8\" font-family=\"Times,serif\" font-size=\"14.00\">c</text>\n",
       "<polyline fill=\"none\" stroke=\"black\" points=\"392,-110.5 392,-146.5 \"/>\n",
       "<text text-anchor=\"middle\" x=\"443\" y=\"-124.8\" font-family=\"Times,serif\" font-size=\"14.00\">data 6.0000</text>\n",
       "<polyline fill=\"none\" stroke=\"black\" points=\"494,-110.5 494,-146.5 \"/>\n",
       "<text text-anchor=\"middle\" x=\"550.5\" y=\"-124.8\" font-family=\"Times,serif\" font-size=\"14.00\">grad 11.0000</text>\n",
       "</g>\n",
       "<!-- 138331704481776&#45;&gt;138331705536128 -->\n",
       "<g id=\"edge9\" class=\"edge\">\n",
       "<title>138331704481776&#45;&gt;138331705536128</title>\n",
       "<path fill=\"none\" stroke=\"black\" d=\"M607.07,-128.5C644.2,-128.5 685.47,-128.5 723.73,-128.5\"/>\n",
       "<polygon fill=\"black\" stroke=\"black\" points=\"723.91,-132 733.91,-128.5 723.91,-125 723.91,-132\"/>\n",
       "</g>\n",
       "<!-- 138331704481776&#45;&gt;138331705535888* -->\n",
       "<g id=\"edge5\" class=\"edge\">\n",
       "<title>138331704481776&#45;&gt;138331705535888*</title>\n",
       "<path fill=\"none\" stroke=\"black\" d=\"M577.48,-110.5C587.85,-107.78 598.22,-104.78 608,-101.5 618.69,-97.92 630.04,-93.11 640.05,-88.5\"/>\n",
       "<polygon fill=\"black\" stroke=\"black\" points=\"641.65,-91.61 649.19,-84.17 638.65,-85.29 641.65,-91.61\"/>\n",
       "</g>\n",
       "<!-- 138331704481776*&#45;&gt;138331704481776 -->\n",
       "<g id=\"edge4\" class=\"edge\">\n",
       "<title>138331704481776*&#45;&gt;138331704481776</title>\n",
       "<path fill=\"none\" stroke=\"black\" d=\"M331,-128.5C338.8,-128.5 347.92,-128.5 357.77,-128.5\"/>\n",
       "<polygon fill=\"black\" stroke=\"black\" points=\"357.84,-132 367.84,-128.5 357.84,-125 357.84,-132\"/>\n",
       "</g>\n",
       "</g>\n",
       "</svg>\n"
      ],
      "text/plain": [
       "<graphviz.graphs.Digraph at 0x7dcef2656850>"
      ]
     },
     "execution_count": 21,
     "metadata": {},
     "output_type": "execute_result"
    }
   ],
   "source": [
    "draw_dot(g)"
   ]
  },
  {
   "cell_type": "code",
   "execution_count": 16,
   "metadata": {},
   "outputs": [],
   "source": [
    "g.grad = 1\n",
    "g._backward()"
   ]
  },
  {
   "cell_type": "code",
   "execution_count": 18,
   "metadata": {},
   "outputs": [],
   "source": [
    "h._backward()"
   ]
  },
  {
   "cell_type": "code",
   "execution_count": 20,
   "metadata": {},
   "outputs": [],
   "source": [
    "d._backward()\n",
    "c._backward()"
   ]
  },
  {
   "cell_type": "code",
   "execution_count": null,
   "metadata": {},
   "outputs": [],
   "source": []
  }
 ],
 "metadata": {
  "kernelspec": {
   "display_name": "develop_env",
   "language": "python",
   "name": "python3"
  },
  "language_info": {
   "codemirror_mode": {
    "name": "ipython",
    "version": 3
   },
   "file_extension": ".py",
   "mimetype": "text/x-python",
   "name": "python",
   "nbconvert_exporter": "python",
   "pygments_lexer": "ipython3",
   "version": "3.8.18"
  }
 },
 "nbformat": 4,
 "nbformat_minor": 2
}
