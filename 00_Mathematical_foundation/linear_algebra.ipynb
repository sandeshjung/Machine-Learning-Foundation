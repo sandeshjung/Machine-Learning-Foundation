{
 "cells": [
  {
   "cell_type": "markdown",
   "metadata": {},
   "source": [
    "### Linear Algebra"
   ]
  },
  {
   "cell_type": "markdown",
   "metadata": {},
   "source": [
    "##### Scalars, vectors, matrices and tensors"
   ]
  },
  {
   "cell_type": "code",
   "execution_count": 1,
   "metadata": {},
   "outputs": [],
   "source": [
    "import torch\n",
    "import numpy as np\n",
    "import matplotlib.pyplot as plt"
   ]
  },
  {
   "cell_type": "code",
   "execution_count": 2,
   "metadata": {},
   "outputs": [
    {
     "name": "stdout",
     "output_type": "stream",
     "text": [
      "Pytorch version: 2.3.0+cu118\n",
      "Numpy version: 1.24.3\n"
     ]
    }
   ],
   "source": [
    "print(f\"Pytorch version: {torch.__version__}\")\n",
    "print(f\"Numpy version: {np.__version__}\")"
   ]
  },
  {
   "cell_type": "markdown",
   "metadata": {},
   "source": [
    "##### Scalars\n",
    "- A scalar is a single number, represented as a 0-dimensional tensor in PyTorch. \n",
    "- In ML, scalars are used for learning rates, regularization parameters, loss values, etc."
   ]
  },
  {
   "cell_type": "code",
   "execution_count": 4,
   "metadata": {},
   "outputs": [],
   "source": [
    "s1 = 5.0 \n",
    "s2_pt = torch.tensor(5.0) \n",
    "s3_pt = torch.tensor(3.14, dtype=torch.float32)"
   ]
  },
  {
   "cell_type": "code",
   "execution_count": 6,
   "metadata": {},
   "outputs": [
    {
     "name": "stdout",
     "output_type": "stream",
     "text": [
      "5.0: type: <class 'float'>\n",
      "5.0: type: <class 'torch.Tensor'>, shape: torch.Size([]), dtype= torch.float32\n",
      "3.140000104904175: type: <class 'torch.Tensor'>, shape: torch.Size([]), dtype= torch.float32\n"
     ]
    }
   ],
   "source": [
    "print(f\"{s1}: type: {type(s1)}\")\n",
    "print(f\"{s2_pt}: type: {type(s2_pt)}, shape: {s2_pt.shape}, dtype= {s2_pt.dtype}\")\n",
    "print(f\"{s3_pt}: type: {type(s3_pt)}, shape: {s3_pt.shape}, dtype= {s3_pt.dtype}\")"
   ]
  },
  {
   "cell_type": "markdown",
   "metadata": {},
   "source": [
    "##### Vectors (1-D Tensors)\n",
    "- A vector is an ordered array of numbers, represented as a 1-D tensor."
   ]
  },
  {
   "cell_type": "code",
   "execution_count": 8,
   "metadata": {},
   "outputs": [],
   "source": [
    "v1_pt = torch.tensor([1.0, 2.0, 3.0])\n",
    "v2_pt = torch.tensor([4.0, 5.5, 6.2], dtype=torch.float64)\n",
    "# For row/column vectors, they are typically 2-D tensors with one dimension being 1\n",
    "v_row_pt = torch.tensor([[7., 8., 9.]])      # Shape: (1, 3)\n",
    "v_col_pt = torch.tensor([[10.], [11.], [12.]]) # Shape: (3, 1)\n",
    "\n",
    "v3_np = np.array((1,2,3))"
   ]
  },
  {
   "cell_type": "code",
   "execution_count": 15,
   "metadata": {},
   "outputs": [
    {
     "name": "stdout",
     "output_type": "stream",
     "text": [
      "tensor([1., 2., 3.]), shape: torch.Size([3]), dtype: torch.float32\n",
      "\n",
      "tensor([4.0000, 5.5000, 6.2000], dtype=torch.float64), shape: torch.Size([3]), dtype: torch.float64\n",
      "\n",
      "Row vector v_row_pt: tensor([[7., 8., 9.]]), \n",
      "shape: torch.Size([1, 3])\n",
      "\n",
      "Column vector v_col_pt: \n",
      "tensor([[10.],\n",
      "        [11.],\n",
      "        [12.]]), \n",
      "shape: torch.Size([3, 1])\n",
      "\n",
      "[1 2 3]: shape: (3,), dtype: int64\n"
     ]
    }
   ],
   "source": [
    "print(f\"{v1_pt}, shape: {v1_pt.shape}, dtype: {v1_pt.dtype}\")\n",
    "print(f\"\\n{v2_pt}, shape: {v2_pt.shape}, dtype: {v2_pt.dtype}\")\n",
    "print(f\"\\nRow vector v_row_pt: {v_row_pt}, \\nshape: {v_row_pt.shape}\")\n",
    "print(f\"\\nColumn vector v_col_pt: \\n{v_col_pt}, \\nshape: {v_col_pt.shape}\")\n",
    "print(f\"\\n{v3_np}: shape: {v3_np.shape}, dtype: {v3_np.dtype}\")"
   ]
  },
  {
   "cell_type": "code",
   "execution_count": 22,
   "metadata": {},
   "outputs": [
    {
     "name": "stdout",
     "output_type": "stream",
     "text": [
      "\n",
      "(tensor([1., 2., 3.]) + tensor([4.0000, 5.5000, 6.2000], dtype=torch.float64)) = tensor([5.0000, 7.5000, 9.2000])\n"
     ]
    }
   ],
   "source": [
    "# Addition\n",
    "v_sum_pt = v1_pt + v2_pt.to(v1_pt.dtype) # Ensure same dtype for operations\n",
    "print(f\"\\n({v1_pt} + {v2_pt}) = {v_sum_pt}\")"
   ]
  },
  {
   "cell_type": "code",
   "execution_count": 29,
   "metadata": {},
   "outputs": [
    {
     "name": "stdout",
     "output_type": "stream",
     "text": [
      "Vector scaled (5 * tensor([1., 2., 3.])) =  tensor([ 5., 10., 15.])\n"
     ]
    }
   ],
   "source": [
    "# multiplication\n",
    "v_scaled_pt = 5 * v1_pt  \n",
    "print(f\"Vector scaled (5 * {v1_pt}) =  {v_scaled_pt}\")"
   ]
  },
  {
   "cell_type": "code",
   "execution_count": 30,
   "metadata": {},
   "outputs": [
    {
     "name": "stdout",
     "output_type": "stream",
     "text": [
      "Dot product (tensor([1., 2., 3.]) . tensor([4.0000, 5.5000, 6.2000], dtype=torch.float64)) =  33.599998474121094\n"
     ]
    }
   ],
   "source": [
    "# Dot Product \n",
    "# Result is a scalar (0-D tensor).\n",
    "dot_product_v1_v2_pt = v1_pt @ v2_pt.to(v1_pt.dtype)\n",
    "print(f\"Dot product ({v1_pt} . {v2_pt}) =  {dot_product_v1_v2_pt}\")"
   ]
  },
  {
   "cell_type": "code",
   "execution_count": 34,
   "metadata": {},
   "outputs": [
    {
     "name": "stdout",
     "output_type": "stream",
     "text": [
      "L2 Norm of v1_pt: 3.7417\n"
     ]
    }
   ],
   "source": [
    "# Norm\n",
    "# L2 norm (Euclidean norm)\n",
    "norm_v1_pt = torch.linalg.norm(v1_pt)\n",
    "print(f\"L2 Norm of v1_pt: {norm_v1_pt:.4f}\")"
   ]
  },
  {
   "cell_type": "code",
   "execution_count": 35,
   "metadata": {},
   "outputs": [
    {
     "name": "stdout",
     "output_type": "stream",
     "text": [
      "L1 Norm of v1_pt: 6.0\n"
     ]
    }
   ],
   "source": [
    "# L1 norm\n",
    "norm_l1_v1_pt = torch.linalg.norm(v1_pt, ord=1)\n",
    "print(f\"L1 Norm of v1_pt: {norm_l1_v1_pt}\")"
   ]
  },
  {
   "cell_type": "code",
   "execution_count": 42,
   "metadata": {},
   "outputs": [
    {
     "data": {
      "image/png": "[encoded data removed]",
      "text/plain": [
       "<Figure size 500x500 with 1 Axes>"
      ]
     },
     "metadata": {},
     "output_type": "display_data"
    }
   ],
   "source": [
    "\"\"\"\n",
    "This code was generated from claude\n",
    "\"\"\"\n",
    "\n",
    "u = np.array([2, 1])\n",
    "v = np.array([1, 3])\n",
    "u_plus_v = u + v\n",
    "\n",
    "fig, ax = plt.subplots(figsize=(5, 5))\n",
    "\n",
    "vectors = [(u, 'red', 'u'), (v, 'blue', 'v'), (u_plus_v, 'green', 'u+v')]\n",
    "for vec, color, name in vectors:\n",
    "    ax.arrow(0, 0, vec[0], vec[1], head_width=0.15, head_length=0.2, \n",
    "             fc=color, ec=color, length_includes_head=True, label=f'{name} = {vec}')\n",
    "\n",
    "ax.arrow(v[0], v[1], u[0], u[1], head_width=0.15, head_length=0.2, \n",
    "         fc='red', ec='red', length_includes_head=True, linestyle='dotted')\n",
    "\n",
    "# Enhanced styling for better readability\n",
    "ax.set_xlim(-0.5, 4)\n",
    "ax.set_ylim(-0.5, 4.5)\n",
    "ax.grid(linestyle='--', alpha=0.7)\n",
    "ax.spines['left'].set_position('zero')\n",
    "ax.spines['bottom'].set_position('zero')\n",
    "ax.spines['right'].set_visible(False)\n",
    "ax.spines['top'].set_visible(False)\n",
    "\n",
    "ax.set_title(\"Vector Addition Visualization\", fontsize=14)\n",
    "ax.legend(loc='upper right')\n",
    "\n",
    "plt.tight_layout()\n",
    "plt.show()"
   ]
  },
  {
   "cell_type": "markdown",
   "metadata": {},
   "source": [
    "##### Matrices (2-D Tensors)\n",
    "- A matrix is a 2D array of numbers, represented as a 2-D tensor. "
   ]
  },
  {
   "cell_type": "code",
   "execution_count": 43,
   "metadata": {},
   "outputs": [],
   "source": [
    "M1_pt = torch.tensor([[1., 2., 3.],\n",
    "                      [4., 5., 6.]]) # 2x3 matrix\n",
    "\n",
    "M2_pt = torch.tensor([[7., 8.],\n",
    "                      [9., 10.],\n",
    "                      [11., 12.]]) # 3x2 matrix\n",
    "\n",
    "M_square_pt = torch.tensor([[1., 2.],\n",
    "                            [3., 4.]]) # 2x2 square matrix"
   ]
  },
  {
   "cell_type": "code",
   "execution_count": 45,
   "metadata": {},
   "outputs": [
    {
     "name": "stdout",
     "output_type": "stream",
     "text": [
      "Matrix M1_pt (2x3):\n",
      "tensor([[1., 2., 3.],\n",
      "        [4., 5., 6.]])\n",
      "shape: torch.Size([2, 3]), dtype: torch.float32\n",
      "\n",
      "Matrix M2_pt (3x2):\n",
      "tensor([[ 7.,  8.],\n",
      "        [ 9., 10.],\n",
      "        [11., 12.]])\n",
      "shape: torch.Size([3, 2])\n",
      "\n",
      "Matrix M_square_pt (2x2):\n",
      "tensor([[1., 2.],\n",
      "        [3., 4.]])\n",
      "shape: torch.Size([2, 2])\n"
     ]
    }
   ],
   "source": [
    "print(f\"Matrix M1_pt (2x3):\\n{M1_pt}\\nshape: {M1_pt.shape}, dtype: {M1_pt.dtype}\")\n",
    "print(f\"\\nMatrix M2_pt (3x2):\\n{M2_pt}\\nshape: {M2_pt.shape}\")\n",
    "print(f\"\\nMatrix M_square_pt (2x2):\\n{M_square_pt}\\nshape: {M_square_pt.shape}\")\n"
   ]
  },
  {
   "cell_type": "code",
   "execution_count": 54,
   "metadata": {},
   "outputs": [
    {
     "name": "stdout",
     "output_type": "stream",
     "text": [
      "\n",
      "Matrix sum (\n",
      "tensor([[1., 2., 3.],\n",
      "        [4., 5., 6.]]) + \n",
      "tensor([[0.1000, 0.2000, 0.3000],\n",
      "        [0.4000, 0.5000, 0.6000]])) = \n",
      "tensor([[1.1000, 2.2000, 3.3000],\n",
      "        [4.4000, 5.5000, 6.6000]])\n"
     ]
    }
   ],
   "source": [
    "# Addition (matrices must have same dimensions)\n",
    "M3_pt = torch.tensor([[0.1, 0.2, 0.3],\n",
    "                      [0.4, 0.5, 0.6]])\n",
    "M_sum_pt = M1_pt + M3_pt\n",
    "print(f\"\\nMatrix sum (\\n{M1_pt} + \\n{M3_pt}) = \\n{M_sum_pt}\")"
   ]
  },
  {
   "cell_type": "code",
   "execution_count": null,
   "metadata": {},
   "outputs": [],
   "source": []
  },
  {
   "cell_type": "code",
   "execution_count": null,
   "metadata": {},
   "outputs": [],
   "source": []
  }
 ],
 "metadata": {
  "kernelspec": {
   "display_name": "develop_env",
   "language": "python",
   "name": "python3"
  },
  "language_info": {
   "codemirror_mode": {
    "name": "ipython",
    "version": 3
   },
   "file_extension": ".py",
   "mimetype": "text/x-python",
   "name": "python",
   "nbconvert_exporter": "python",
   "pygments_lexer": "ipython3",
   "version": "3.8.18"
  }
 },
 "nbformat": 4,
 "nbformat_minor": 2
}
