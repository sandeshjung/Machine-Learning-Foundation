{
 "cells": [
  {
   "cell_type": "markdown",
   "metadata": {},
   "source": [
    "## Autograd Tensor"
   ]
  },
  {
   "cell_type": "code",
   "execution_count": 1,
   "metadata": {},
   "outputs": [],
   "source": [
    "from graphviz import Digraph\n",
    "import torch\n",
    "def trace(root):\n",
    "\n",
    "    nodes, edges = set(), set()\n",
    "    def build(v):\n",
    "        if v not in nodes:\n",
    "            nodes.add(v)\n",
    "            for child in v._prev:\n",
    "                edges.add((child, v))\n",
    "                build(child)\n",
    "    build(root)\n",
    "    return nodes, edges\n",
    "\n",
    "def draw_dot(root):\n",
    "    dot = Digraph(format='svg', graph_attr={'rankdir': 'LR'})\n",
    "\n",
    "    nodes, edges = trace(root)\n",
    "    for n in nodes:\n",
    "        uid = str(id(n))\n",
    "\n",
    "        dot.node(name = uid, label=\"{ %s | %s | grad %s}\" % (n.label, n.data.shape, str(n.grad.detach().cpu().numpy())), shape='record')\n",
    "\n",
    "        if n._op:\n",
    "            dot.node(name = uid + n._op, label=n._op)\n",
    "            dot.edge(uid + n._op, uid)\n",
    "\n",
    "    for n1, n2 in edges:\n",
    "        dot.edge(str(id(n1)), str(id(n2)) + n2._op)\n",
    "\n",
    "    return dot"
   ]
  },
  {
   "cell_type": "code",
   "execution_count": 31,
   "metadata": {},
   "outputs": [],
   "source": [
    "def unbroadcast(target, grad):\n",
    "    # If grad has extra leading dims, sum them away:\n",
    "    while grad.dim() > target.dim():\n",
    "        grad = grad.sum(dim=0)\n",
    "    # For any dimension where target was size=1 (broadcast), sum over that axis:\n",
    "    for i, size in enumerate(target.size()):\n",
    "        if size == 1:\n",
    "            grad = grad.sum(dim=i, keepdim=True)\n",
    "    return grad"
   ]
  },
  {
   "cell_type": "code",
   "execution_count": 32,
   "metadata": {},
   "outputs": [],
   "source": [
    "import torch\n",
    "\n",
    "class Value:\n",
    "    def __init__(self, value, _children=(), label=\"\", _op=\"\"):\n",
    "        self.data = value\n",
    "        self._prev = _children\n",
    "        self._backward = lambda: None\n",
    "        self.label = label\n",
    "        self._op = _op\n",
    "        self.grad = torch.zeros_like(value)\n",
    "\n",
    "    def __add__(self, other):\n",
    "        # Support both Value + Value and Value + Tensor\n",
    "        if isinstance(other, Value):\n",
    "            out = Value(self.data + other.data, _children=(self, other), _op=\"+\")\n",
    "            def _backward():\n",
    "                # Sum out.grad back into self.grad and other.grad, but first undo any broadcasting:\n",
    "                self.grad += unbroadcast(self.data, out.grad)\n",
    "                other.grad += unbroadcast(other.data, out.grad)\n",
    "            out._backward = _backward\n",
    "            return out\n",
    "        elif isinstance(other, torch.Tensor): # other is a Tensor\n",
    "            out = Value(self.data + other, _children=(self,), _op=\"+\")\n",
    "            def _backward():\n",
    "                self.grad += unbroadcast(self.data, out.grad)\n",
    "            out._backward = _backward\n",
    "            return out\n",
    "        else:\n",
    "            raise TypeError(\"Unsupported operand type(s) for +: 'Value' and '{}'\".format(type(other)))\n",
    "\n",
    "    def __matmul__(self, other):\n",
    "        if isinstance(other, Value):\n",
    "            out = Value(self.data @ other.data, _children=(self, other), _op=\"@\")\n",
    "            def _backward():\n",
    "                # d(a@b)/da = grad @ bᵀ\n",
    "                self.grad += unbroadcast(self.data, out.grad @ other.data.T)\n",
    "                # d(a@b)/db = aᵀ @ grad\n",
    "                other.grad += unbroadcast(other.data, self.data.T @ out.grad)\n",
    "            out._backward = _backward\n",
    "            return out\n",
    "        elif isinstance(other, torch.Tensor):\n",
    "            out = Value(self.data @ other, _children=(self,), _op=\"@\")\n",
    "            def _backward():\n",
    "                self.grad += unbroadcast(self.data, out.grad @ other.T)\n",
    "            out._backward = _backward\n",
    "            return out\n",
    "        else:\n",
    "            raise TypeError(\"Unsupported operand type(s) for @: 'Value' and '{}'\".format(type(other)))\n",
    "\n",
    "    def backward(self):\n",
    "        # Initialize the gradient of the output value\n",
    "        self.grad = torch.ones_like(self.data)\n",
    "        # Propagate the gradients backward through the computation graph\n",
    "        stack = [self]\n",
    "        while stack:\n",
    "            node = stack.pop()\n",
    "            node._backward()\n",
    "            stack.extend(node._prev)\n",
    "\n",
    "    def __repr__(self):\n",
    "        return str(f'Value: {self.data}')\n",
    "\n",
    "    def __str__(self):\n",
    "        return str(f'Value :{self.data}')"
   ]
  },
  {
   "cell_type": "code",
   "execution_count": 46,
   "metadata": {},
   "outputs": [],
   "source": [
    "# To make a tensor track operations for automatic differentiation, set its `requires_grad` attribute to `True`.\n",
    "w = torch.randn(1, 1, requires_grad=True)\n",
    "b = torch.randn(1, 1, requires_grad=True)\n",
    "a = torch.randn(2, 1, requires_grad=True)"
   ]
  },
  {
   "cell_type": "code",
   "execution_count": 34,
   "metadata": {},
   "outputs": [],
   "source": [
    "w1 = w.clone().detach().requires_grad_(True)\n",
    "b1 = b.clone().detach().requires_grad_(True)\n",
    "a1 = a.clone().detach().requires_grad_(True)"
   ]
  },
  {
   "cell_type": "code",
   "execution_count": 35,
   "metadata": {},
   "outputs": [],
   "source": [
    "a = Value(a)\n",
    "a.label = 'a'\n",
    "b = Value(b)\n",
    "b.label = 'b'\n",
    "w = Value(w)\n",
    "w.label = 'w'"
   ]
  },
  {
   "cell_type": "code",
   "execution_count": 36,
   "metadata": {},
   "outputs": [],
   "source": [
    "interm = a @ w\n",
    "interm.label = 'interm'\n",
    "z = interm + b\n",
    "z.label = 'z'"
   ]
  },
  {
   "cell_type": "code",
   "execution_count": 37,
   "metadata": {},
   "outputs": [
    {
     "data": {
      "text/plain": [
       "Value: tensor([[0.9169],\n",
       "        [1.6642]], grad_fn=<AddBackward0>)"
      ]
     },
     "execution_count": 37,
     "metadata": {},
     "output_type": "execute_result"
    }
   ],
   "source": [
    "z"
   ]
  },
  {
   "cell_type": "code",
   "execution_count": 45,
   "metadata": {},
   "outputs": [
    {
     "data": {
      "image/svg+xml": [
       "<?xml version=\"1.0\" encoding=\"UTF-8\" standalone=\"no\"?>\n",
       "<!DOCTYPE svg PUBLIC \"-//W3C//DTD SVG 1.1//EN\"\n",
       " \"http://www.w3.org/Graphics/SVG/1.1/DTD/svg11.dtd\">\n",
       "<!-- Generated by graphviz version 2.43.0 (0)\n",
       " -->\n",
       "<!-- Title: %3 Pages: 1 -->\n",
       "<svg width=\"1262pt\" height=\"128pt\"\n",
       " viewBox=\"0.00 0.00 1262.00 128.00\" xmlns=\"http://www.w3.org/2000/svg\" xmlns:xlink=\"http://www.w3.org/1999/xlink\">\n",
       "<g id=\"graph0\" class=\"graph\" transform=\"scale(1 1) rotate(0) translate(4 124)\">\n",
       "<title>%3</title>\n",
       "<polygon fill=\"white\" stroke=\"transparent\" points=\"-4,4 -4,-124 1258,-124 1258,4 -4,4\"/>\n",
       "<!-- 129167715878944 -->\n",
       "<g id=\"node1\" class=\"node\">\n",
       "<title>129167715878944</title>\n",
       "<polygon fill=\"none\" stroke=\"black\" points=\"0,-83.5 0,-119.5 405,-119.5 405,-83.5 0,-83.5\"/>\n",
       "<text text-anchor=\"middle\" x=\"12.5\" y=\"-97.8\" font-family=\"Times,serif\" font-size=\"14.00\">a</text>\n",
       "<polyline fill=\"none\" stroke=\"black\" points=\"25,-83.5 25,-119.5 \"/>\n",
       "<text text-anchor=\"middle\" x=\"93.5\" y=\"-97.8\" font-family=\"Times,serif\" font-size=\"14.00\">torch.Size([2, 1])</text>\n",
       "<polyline fill=\"none\" stroke=\"black\" points=\"162,-83.5 162,-119.5 \"/>\n",
       "<text text-anchor=\"middle\" x=\"283.5\" y=\"-97.8\" font-family=\"Times,serif\" font-size=\"14.00\">grad [[0.9800885] [0.9800885]]</text>\n",
       "</g>\n",
       "<!-- 129167729070816@ -->\n",
       "<g id=\"node4\" class=\"node\">\n",
       "<title>129167729070816@</title>\n",
       "<ellipse fill=\"none\" stroke=\"black\" cx=\"468\" cy=\"-73.5\" rx=\"27\" ry=\"18\"/>\n",
       "<text text-anchor=\"middle\" x=\"468\" y=\"-69.8\" font-family=\"Times,serif\" font-size=\"14.00\">@</text>\n",
       "</g>\n",
       "<!-- 129167715878944&#45;&gt;129167729070816@ -->\n",
       "<g id=\"edge3\" class=\"edge\">\n",
       "<title>129167715878944&#45;&gt;129167729070816@</title>\n",
       "<path fill=\"none\" stroke=\"black\" d=\"M372.99,-83.49C394.79,-81.17 415.08,-79.02 431.19,-77.31\"/>\n",
       "<polygon fill=\"black\" stroke=\"black\" points=\"431.58,-80.78 441.15,-76.25 430.84,-73.82 431.58,-80.78\"/>\n",
       "</g>\n",
       "<!-- 129167715879568 -->\n",
       "<g id=\"node2\" class=\"node\">\n",
       "<title>129167715879568</title>\n",
       "<polygon fill=\"none\" stroke=\"black\" points=\"43.5,-28.5 43.5,-64.5 361.5,-64.5 361.5,-28.5 43.5,-28.5\"/>\n",
       "<text text-anchor=\"middle\" x=\"58\" y=\"-42.8\" font-family=\"Times,serif\" font-size=\"14.00\">w</text>\n",
       "<polyline fill=\"none\" stroke=\"black\" points=\"72.5,-28.5 72.5,-64.5 \"/>\n",
       "<text text-anchor=\"middle\" x=\"141\" y=\"-42.8\" font-family=\"Times,serif\" font-size=\"14.00\">torch.Size([1, 1])</text>\n",
       "<polyline fill=\"none\" stroke=\"black\" points=\"209.5,-28.5 209.5,-64.5 \"/>\n",
       "<text text-anchor=\"middle\" x=\"285.5\" y=\"-42.8\" font-family=\"Times,serif\" font-size=\"14.00\">grad [[0.5362239]]</text>\n",
       "</g>\n",
       "<!-- 129167715879568&#45;&gt;129167729070816@ -->\n",
       "<g id=\"edge5\" class=\"edge\">\n",
       "<title>129167715879568&#45;&gt;129167729070816@</title>\n",
       "<path fill=\"none\" stroke=\"black\" d=\"M361.72,-62.71C387.61,-65.36 412.07,-67.87 430.89,-69.8\"/>\n",
       "<polygon fill=\"black\" stroke=\"black\" points=\"430.71,-73.3 441.01,-70.84 431.42,-66.34 430.71,-73.3\"/>\n",
       "</g>\n",
       "<!-- 129167729070816 -->\n",
       "<g id=\"node3\" class=\"node\">\n",
       "<title>129167729070816</title>\n",
       "<polygon fill=\"none\" stroke=\"black\" points=\"531,-55.5 531,-91.5 850,-91.5 850,-55.5 531,-55.5\"/>\n",
       "<text text-anchor=\"middle\" x=\"563.5\" y=\"-69.8\" font-family=\"Times,serif\" font-size=\"14.00\">interm</text>\n",
       "<polyline fill=\"none\" stroke=\"black\" points=\"596,-55.5 596,-91.5 \"/>\n",
       "<text text-anchor=\"middle\" x=\"664.5\" y=\"-69.8\" font-family=\"Times,serif\" font-size=\"14.00\">torch.Size([2, 1])</text>\n",
       "<polyline fill=\"none\" stroke=\"black\" points=\"733,-55.5 733,-91.5 \"/>\n",
       "<text text-anchor=\"middle\" x=\"791.5\" y=\"-69.8\" font-family=\"Times,serif\" font-size=\"14.00\">grad [[1.] [1.]]</text>\n",
       "</g>\n",
       "<!-- 129167714645904+ -->\n",
       "<g id=\"node7\" class=\"node\">\n",
       "<title>129167714645904+</title>\n",
       "<ellipse fill=\"none\" stroke=\"black\" cx=\"913\" cy=\"-45.5\" rx=\"27\" ry=\"18\"/>\n",
       "<text text-anchor=\"middle\" x=\"913\" y=\"-41.8\" font-family=\"Times,serif\" font-size=\"14.00\">+</text>\n",
       "</g>\n",
       "<!-- 129167729070816&#45;&gt;129167714645904+ -->\n",
       "<g id=\"edge6\" class=\"edge\">\n",
       "<title>129167729070816&#45;&gt;129167714645904+</title>\n",
       "<path fill=\"none\" stroke=\"black\" d=\"M833.33,-55.49C848.98,-53.5 863.7,-51.63 876.08,-50.06\"/>\n",
       "<polygon fill=\"black\" stroke=\"black\" points=\"876.84,-53.49 886.32,-48.76 875.96,-46.55 876.84,-53.49\"/>\n",
       "</g>\n",
       "<!-- 129167729070816@&#45;&gt;129167729070816 -->\n",
       "<g id=\"edge1\" class=\"edge\">\n",
       "<title>129167729070816@&#45;&gt;129167729070816</title>\n",
       "<path fill=\"none\" stroke=\"black\" d=\"M495.16,-73.5C502.53,-73.5 511.13,-73.5 520.53,-73.5\"/>\n",
       "<polygon fill=\"black\" stroke=\"black\" points=\"520.6,-77 530.6,-73.5 520.6,-70 520.6,-77\"/>\n",
       "</g>\n",
       "<!-- 129167715879280 -->\n",
       "<g id=\"node5\" class=\"node\">\n",
       "<title>129167715879280</title>\n",
       "<polygon fill=\"none\" stroke=\"black\" points=\"564.5,-0.5 564.5,-36.5 816.5,-36.5 816.5,-0.5 564.5,-0.5\"/>\n",
       "<text text-anchor=\"middle\" x=\"577.5\" y=\"-14.8\" font-family=\"Times,serif\" font-size=\"14.00\">b</text>\n",
       "<polyline fill=\"none\" stroke=\"black\" points=\"590.5,-0.5 590.5,-36.5 \"/>\n",
       "<text text-anchor=\"middle\" x=\"659\" y=\"-14.8\" font-family=\"Times,serif\" font-size=\"14.00\">torch.Size([1, 1])</text>\n",
       "<polyline fill=\"none\" stroke=\"black\" points=\"727.5,-0.5 727.5,-36.5 \"/>\n",
       "<text text-anchor=\"middle\" x=\"772\" y=\"-14.8\" font-family=\"Times,serif\" font-size=\"14.00\">grad [[2.]]</text>\n",
       "</g>\n",
       "<!-- 129167715879280&#45;&gt;129167714645904+ -->\n",
       "<g id=\"edge4\" class=\"edge\">\n",
       "<title>129167715879280&#45;&gt;129167714645904+</title>\n",
       "<path fill=\"none\" stroke=\"black\" d=\"M816.57,-33.81C838.26,-36.47 859.17,-39.03 875.86,-41.07\"/>\n",
       "<polygon fill=\"black\" stroke=\"black\" points=\"875.83,-44.6 886.18,-42.34 876.68,-37.65 875.83,-44.6\"/>\n",
       "</g>\n",
       "<!-- 129167714645904 -->\n",
       "<g id=\"node6\" class=\"node\">\n",
       "<title>129167714645904</title>\n",
       "<polygon fill=\"none\" stroke=\"black\" points=\"976,-27.5 976,-63.5 1254,-63.5 1254,-27.5 976,-27.5\"/>\n",
       "<text text-anchor=\"middle\" x=\"988\" y=\"-41.8\" font-family=\"Times,serif\" font-size=\"14.00\">z</text>\n",
       "<polyline fill=\"none\" stroke=\"black\" points=\"1000,-27.5 1000,-63.5 \"/>\n",
       "<text text-anchor=\"middle\" x=\"1068.5\" y=\"-41.8\" font-family=\"Times,serif\" font-size=\"14.00\">torch.Size([2, 1])</text>\n",
       "<polyline fill=\"none\" stroke=\"black\" points=\"1137,-27.5 1137,-63.5 \"/>\n",
       "<text text-anchor=\"middle\" x=\"1195.5\" y=\"-41.8\" font-family=\"Times,serif\" font-size=\"14.00\">grad [[1.] [1.]]</text>\n",
       "</g>\n",
       "<!-- 129167714645904+&#45;&gt;129167714645904 -->\n",
       "<g id=\"edge2\" class=\"edge\">\n",
       "<title>129167714645904+&#45;&gt;129167714645904</title>\n",
       "<path fill=\"none\" stroke=\"black\" d=\"M940.15,-45.5C947.61,-45.5 956.32,-45.5 965.78,-45.5\"/>\n",
       "<polygon fill=\"black\" stroke=\"black\" points=\"965.9,-49 975.9,-45.5 965.9,-42 965.9,-49\"/>\n",
       "</g>\n",
       "</g>\n",
       "</svg>\n"
      ],
      "text/plain": [
       "<graphviz.graphs.Digraph at 0x757a33a59d60>"
      ]
     },
     "execution_count": 45,
     "metadata": {},
     "output_type": "execute_result"
    }
   ],
   "source": [
    "draw_dot(z)"
   ]
  },
  {
   "cell_type": "code",
   "execution_count": 39,
   "metadata": {},
   "outputs": [],
   "source": [
    "z.grad = torch.ones_like(z.data)"
   ]
  },
  {
   "cell_type": "markdown",
   "metadata": {},
   "source": [
    "- To compute gradients, call .backward() on the output tensor\n",
    "- The gradients will be accumulated in the .grad attribute of the input tensors."
   ]
  },
  {
   "cell_type": "code",
   "execution_count": 40,
   "metadata": {},
   "outputs": [],
   "source": [
    "z._backward()"
   ]
  },
  {
   "cell_type": "code",
   "execution_count": 41,
   "metadata": {},
   "outputs": [],
   "source": [
    "interm._backward()"
   ]
  },
  {
   "cell_type": "code",
   "execution_count": 42,
   "metadata": {},
   "outputs": [],
   "source": [
    "temp = (a1 @ w1) + b1\n",
    "loss = temp.sum()\n",
    "loss.backward()"
   ]
  },
  {
   "cell_type": "code",
   "execution_count": 43,
   "metadata": {},
   "outputs": [
    {
     "name": "stdout",
     "output_type": "stream",
     "text": [
      "Gradient of the a tensor: tensor([[0.9801],\n",
      "        [0.9801]])\n",
      "Gradient of the w tensor: tensor([[0.5362]])\n",
      "Gradient of the b tensor: tensor([[2.]])\n"
     ]
    }
   ],
   "source": [
    "print(\"Gradient of the a tensor:\", a1.grad)\n",
    "print(\"Gradient of the w tensor:\", w1.grad)\n",
    "print(\"Gradient of the b tensor:\", b1.grad)"
   ]
  },
  {
   "cell_type": "code",
   "execution_count": 44,
   "metadata": {},
   "outputs": [
    {
     "name": "stdout",
     "output_type": "stream",
     "text": [
      "Gradient of the a tensor: tensor([[0.9801],\n",
      "        [0.9801]], grad_fn=<AddBackward0>)\n",
      "Gradient of the w tensor: tensor([[0.5362]], grad_fn=<AddBackward0>)\n",
      "Gradient of the b tensor: tensor([[2.]])\n"
     ]
    }
   ],
   "source": [
    "print(\"Gradient of the a tensor:\", a.grad)\n",
    "print(\"Gradient of the w tensor:\", w.grad)\n",
    "print(\"Gradient of the b tensor:\", b.grad)"
   ]
  },
  {
   "cell_type": "code",
   "execution_count": null,
   "metadata": {},
   "outputs": [],
   "source": []
  }
 ],
 "metadata": {
  "kernelspec": {
   "display_name": "develop_env",
   "language": "python",
   "name": "python3"
  },
  "language_info": {
   "codemirror_mode": {
    "name": "ipython",
    "version": 3
   },
   "file_extension": ".py",
   "mimetype": "text/x-python",
   "name": "python",
   "nbconvert_exporter": "python",
   "pygments_lexer": "ipython3",
   "version": "3.8.18"
  }
 },
 "nbformat": 4,
 "nbformat_minor": 2
}
